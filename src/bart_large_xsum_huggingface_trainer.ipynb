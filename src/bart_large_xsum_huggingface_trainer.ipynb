{
 "cells": [
  {
   "cell_type": "markdown",
   "metadata": {
    "id": "Twf0_g6wfiq9"
   },
   "source": [
    "## Configuration"
   ]
  },
  {
   "cell_type": "code",
   "execution_count": 1,
   "metadata": {
    "colab": {
     "base_uri": "https://localhost:8080/"
    },
    "executionInfo": {
     "elapsed": 10016,
     "status": "ok",
     "timestamp": 1653303807523,
     "user": {
      "displayName": "Jan Luca Itzeck",
      "userId": "10367492727450593373"
     },
     "user_tz": -120
    },
    "id": "Kcgpu-Mj2Az0",
    "outputId": "78bfd73e-61eb-45eb-dee6-9ed6f5d9138a",
    "pycharm": {
     "name": "#%%\n"
    }
   },
   "outputs": [
    {
     "name": "stdout",
     "output_type": "stream",
     "text": [
      "Defaulting to user installation because normal site-packages is not writeable\n",
      "Requirement already satisfied: git_root in /home/linusb/.local/lib/python3.10/site-packages (0.1)\n",
      "Running on local machine\n",
      "/home/linusb/git/abstract-to-title-generation\n",
      "Defaulting to user installation because normal site-packages is not writeable\n",
      "Requirement already satisfied: datasets in /home/linusb/.local/lib/python3.10/site-packages (from -r requirements.txt (line 1)) (2.2.1)\n",
      "Requirement already satisfied: transformers in /home/linusb/.local/lib/python3.10/site-packages (from -r requirements.txt (line 2)) (4.19.2)\n",
      "Requirement already satisfied: pandas in /home/linusb/.local/lib/python3.10/site-packages (from -r requirements.txt (line 3)) (1.4.3)\n",
      "Requirement already satisfied: nltk in /home/linusb/.local/lib/python3.10/site-packages (from -r requirements.txt (line 4)) (3.7)\n",
      "Requirement already satisfied: numpy in /usr/lib/python3.10/site-packages (from -r requirements.txt (line 5)) (1.22.3)\n",
      "Requirement already satisfied: tqdm in /usr/lib/python3.10/site-packages (from -r requirements.txt (line 6)) (4.64.0)\n",
      "Requirement already satisfied: sentencepiece in /home/linusb/.local/lib/python3.10/site-packages (from -r requirements.txt (line 7)) (0.1.96)\n",
      "Requirement already satisfied: torch in /home/linusb/.local/lib/python3.10/site-packages (from -r requirements.txt (line 8)) (1.11.0)\n",
      "Requirement already satisfied: scipy in /usr/lib/python3.10/site-packages (from -r requirements.txt (line 9)) (1.8.0)\n",
      "Requirement already satisfied: git_root in /home/linusb/.local/lib/python3.10/site-packages (from -r requirements.txt (line 10)) (0.1)\n",
      "Requirement already satisfied: dvc[gdrive] in /usr/lib/python3.10/site-packages (from -r requirements.txt (line 11)) (2.10.2)\n",
      "Requirement already satisfied: rouge_score in /home/linusb/.local/lib/python3.10/site-packages (from -r requirements.txt (line 12)) (0.0.4)\n",
      "Requirement already satisfied: packaging in /usr/lib/python3.10/site-packages (from datasets->-r requirements.txt (line 1)) (21.3)\n",
      "Requirement already satisfied: responses<0.19 in /home/linusb/.local/lib/python3.10/site-packages (from datasets->-r requirements.txt (line 1)) (0.18.0)\n",
      "Requirement already satisfied: xxhash in /home/linusb/.local/lib/python3.10/site-packages (from datasets->-r requirements.txt (line 1)) (3.0.0)\n",
      "Requirement already satisfied: dill in /home/linusb/.local/lib/python3.10/site-packages (from datasets->-r requirements.txt (line 1)) (0.3.4)\n",
      "Requirement already satisfied: multiprocess in /home/linusb/.local/lib/python3.10/site-packages (from datasets->-r requirements.txt (line 1)) (0.70.12.2)\n",
      "Requirement already satisfied: requests>=2.19.0 in /usr/lib/python3.10/site-packages (from datasets->-r requirements.txt (line 1)) (2.27.1)\n",
      "Requirement already satisfied: huggingface-hub<1.0.0,>=0.1.0 in /home/linusb/.local/lib/python3.10/site-packages (from datasets->-r requirements.txt (line 1)) (0.6.0)\n",
      "Requirement already satisfied: aiohttp in /usr/lib/python3.10/site-packages (from datasets->-r requirements.txt (line 1)) (3.8.1)\n",
      "Requirement already satisfied: pyarrow>=6.0.0 in /home/linusb/.local/lib/python3.10/site-packages (from datasets->-r requirements.txt (line 1)) (8.0.0)\n",
      "Requirement already satisfied: fsspec[http]>=2021.05.0 in /usr/lib/python3.10/site-packages (from datasets->-r requirements.txt (line 1)) (2022.3.0)\n",
      "Requirement already satisfied: regex!=2019.12.17 in /home/linusb/.local/lib/python3.10/site-packages (from transformers->-r requirements.txt (line 2)) (2022.4.24)\n",
      "Requirement already satisfied: tokenizers!=0.11.3,<0.13,>=0.11.1 in /home/linusb/.local/lib/python3.10/site-packages (from transformers->-r requirements.txt (line 2)) (0.12.1)\n",
      "Requirement already satisfied: pyyaml>=5.1 in /usr/lib/python3.10/site-packages (from transformers->-r requirements.txt (line 2)) (6.0)\n",
      "Requirement already satisfied: filelock in /home/linusb/.local/lib/python3.10/site-packages (from transformers->-r requirements.txt (line 2)) (3.7.0)\n",
      "Requirement already satisfied: python-dateutil>=2.8.1 in /usr/lib/python3.10/site-packages (from pandas->-r requirements.txt (line 3)) (2.8.2)\n",
      "Requirement already satisfied: pytz>=2020.1 in /usr/lib/python3.10/site-packages (from pandas->-r requirements.txt (line 3)) (2022.1)\n",
      "Requirement already satisfied: click in /usr/lib/python3.10/site-packages (from nltk->-r requirements.txt (line 4)) (8.1.3)\n",
      "Requirement already satisfied: joblib in /home/linusb/.local/lib/python3.10/site-packages (from nltk->-r requirements.txt (line 4)) (1.1.0)\n",
      "Requirement already satisfied: typing-extensions in /usr/lib/python3.10/site-packages (from torch->-r requirements.txt (line 8)) (4.2.0)\n",
      "Requirement already satisfied: rich>=10.13.0 in /usr/lib/python3.10/site-packages (from dvc[gdrive]->-r requirements.txt (line 11)) (12.4.1)\n",
      "Requirement already satisfied: zc.lockfile>=1.2.1 in /usr/lib/python3.10/site-packages (from dvc[gdrive]->-r requirements.txt (line 11)) (2.0)\n",
      "Requirement already satisfied: dvc-render==0.0.5 in /usr/lib/python3.10/site-packages (from dvc[gdrive]->-r requirements.txt (line 11)) (0.0.5)\n",
      "Requirement already satisfied: pygtrie>=2.3.2 in /usr/lib/python3.10/site-packages (from dvc[gdrive]->-r requirements.txt (line 11)) (2.4.2)\n",
      "Requirement already satisfied: diskcache>=5.2.1 in /usr/lib/python3.10/site-packages (from dvc[gdrive]->-r requirements.txt (line 11)) (5.4.0)\n",
      "Requirement already satisfied: grandalf==0.6 in /usr/lib/python3.10/site-packages (from dvc[gdrive]->-r requirements.txt (line 11)) (0.6)\n",
      "Requirement already satisfied: dpath<3,>=2.0.2 in /usr/lib/python3.10/site-packages (from dvc[gdrive]->-r requirements.txt (line 11)) (2.0.6)\n",
      "Requirement already satisfied: flufl.lock>=5 in /usr/lib/python3.10/site-packages (from dvc[gdrive]->-r requirements.txt (line 11)) (7.0)\n",
      "Requirement already satisfied: scmrepo==0.0.19 in /usr/lib/python3.10/site-packages (from dvc[gdrive]->-r requirements.txt (line 11)) (0.0.19)\n",
      "Requirement already satisfied: flatten-dict<1,>=0.4.1 in /usr/lib/python3.10/site-packages (from dvc[gdrive]->-r requirements.txt (line 11)) (0.4.2)\n",
      "Requirement already satisfied: ruamel.yaml>=0.17.11 in /usr/lib/python3.10/site-packages (from dvc[gdrive]->-r requirements.txt (line 11)) (0.17.21)\n",
      "Requirement already satisfied: dictdiffer>=0.8.1 in /usr/lib/python3.10/site-packages (from dvc[gdrive]->-r requirements.txt (line 11)) (0.9.0)\n",
      "Requirement already satisfied: nanotime>=0.5.2 in /usr/lib/python3.10/site-packages (from dvc[gdrive]->-r requirements.txt (line 11)) (0.5.2)\n",
      "Requirement already satisfied: voluptuous>=0.11.7 in /usr/lib/python3.10/site-packages (from dvc[gdrive]->-r requirements.txt (line 11)) (0.13.1)\n",
      "Requirement already satisfied: distro>=1.3.0 in /usr/lib/python3.10/site-packages (from dvc[gdrive]->-r requirements.txt (line 11)) (1.7.0)\n",
      "Requirement already satisfied: funcy>=1.14 in /usr/lib/python3.10/site-packages (from dvc[gdrive]->-r requirements.txt (line 11)) (1.17)\n",
      "Requirement already satisfied: psutil>=5.8.0 in /usr/lib/python3.10/site-packages (from dvc[gdrive]->-r requirements.txt (line 11)) (5.9.0)\n",
      "Requirement already satisfied: appdirs>=1.4.3 in /usr/lib/python3.10/site-packages (from dvc[gdrive]->-r requirements.txt (line 11)) (1.4.4)\n",
      "Requirement already satisfied: shtab<2,>=1.3.4 in /usr/lib/python3.10/site-packages (from dvc[gdrive]->-r requirements.txt (line 11)) (1.5.4)\n",
      "Requirement already satisfied: pydot>=1.2.4 in /usr/lib/python3.10/site-packages (from dvc[gdrive]->-r requirements.txt (line 11)) (1.4.2)\n",
      "Requirement already satisfied: tabulate>=0.8.7 in /usr/lib/python3.10/site-packages (from dvc[gdrive]->-r requirements.txt (line 11)) (0.8.9)\n",
      "Requirement already satisfied: aiohttp-retry>=2.4.5 in /usr/lib/python3.10/site-packages (from dvc[gdrive]->-r requirements.txt (line 11)) (2.4.6)\n",
      "Requirement already satisfied: dvclive>=0.7.3 in /usr/lib/python3.10/site-packages (from dvc[gdrive]->-r requirements.txt (line 11)) (0.8.0)\n",
      "Requirement already satisfied: networkx>=2.5 in /usr/lib/python3.10/site-packages (from dvc[gdrive]->-r requirements.txt (line 11)) (2.8)\n",
      "Requirement already satisfied: pathspec<0.10.0,>=0.9.0 in /usr/lib/python3.10/site-packages (from dvc[gdrive]->-r requirements.txt (line 11)) (0.9.0)\n",
      "Requirement already satisfied: toml>=0.10.1 in /usr/lib/python3.10/site-packages (from dvc[gdrive]->-r requirements.txt (line 11)) (0.10.2)\n",
      "Requirement already satisfied: shortuuid>=0.5.0 in /usr/lib/python3.10/site-packages (from dvc[gdrive]->-r requirements.txt (line 11)) (1.0.8)\n",
      "Requirement already satisfied: configobj>=5.0.6 in /usr/lib/python3.10/site-packages (from dvc[gdrive]->-r requirements.txt (line 11)) (5.0.6)\n",
      "Requirement already satisfied: pyparsing>=2.4.7 in /usr/lib/python3.10/site-packages (from dvc[gdrive]->-r requirements.txt (line 11)) (3.0.9)\n",
      "Requirement already satisfied: colorama>=0.3.9 in /usr/lib/python3.10/site-packages (from dvc[gdrive]->-r requirements.txt (line 11)) (0.4.4)\n",
      "Requirement already satisfied: python-benedict>=0.24.2 in /usr/lib/python3.10/site-packages (from dvc[gdrive]->-r requirements.txt (line 11)) (0.25.1)\n",
      "Requirement already satisfied: pydrive2[fsspec]>=1.10.1 in /usr/lib/python3.10/site-packages (from dvc[gdrive]->-r requirements.txt (line 11)) (1.10.1)\n",
      "Requirement already satisfied: future in /usr/lib/python3.10/site-packages (from grandalf==0.6->dvc[gdrive]->-r requirements.txt (line 11)) (0.18.2)\n",
      "Requirement already satisfied: gitpython>3 in /usr/lib/python3.10/site-packages (from scmrepo==0.0.19->dvc[gdrive]->-r requirements.txt (line 11)) (3.1.27)\n",
      "Requirement already satisfied: pygit2>=1.7.2 in /usr/lib/python3.10/site-packages (from scmrepo==0.0.19->dvc[gdrive]->-r requirements.txt (line 11)) (1.9.0)\n",
      "Requirement already satisfied: asyncssh<3,>=2.7.1 in /usr/lib/python3.10/site-packages (from scmrepo==0.0.19->dvc[gdrive]->-r requirements.txt (line 11)) (2.10.1)\n",
      "Requirement already satisfied: dulwich>=0.20.34 in /usr/lib/python3.10/site-packages (from scmrepo==0.0.19->dvc[gdrive]->-r requirements.txt (line 11)) (0.20.36)\n",
      "Requirement already satisfied: six>=1.14.0 in /usr/lib/python3.10/site-packages (from rouge_score->-r requirements.txt (line 12)) (1.16.0)\n",
      "Requirement already satisfied: absl-py in /home/linusb/.local/lib/python3.10/site-packages (from rouge_score->-r requirements.txt (line 12)) (1.1.0)\n",
      "Requirement already satisfied: atpublic>=2.3 in /usr/lib/python3.10/site-packages (from flufl.lock>=5->dvc[gdrive]->-r requirements.txt (line 11)) (3.0.1)\n",
      "Requirement already satisfied: pyOpenSSL>=19.1.0 in /usr/lib/python3.10/site-packages (from pydrive2[fsspec]>=1.10.1->dvc[gdrive]->-r requirements.txt (line 11)) (22.0.0)\n",
      "Requirement already satisfied: google-api-python-client>=1.12.5 in /usr/lib/python3.10/site-packages (from pydrive2[fsspec]>=1.10.1->dvc[gdrive]->-r requirements.txt (line 11)) (2.48.0)\n",
      "Requirement already satisfied: oauth2client>=4.0.0 in /usr/lib/python3.10/site-packages (from pydrive2[fsspec]>=1.10.1->dvc[gdrive]->-r requirements.txt (line 11)) (4.1.3)\n",
      "Requirement already satisfied: mailchecker<5.0.0,>=4.1.0 in /usr/lib/python3.10/site-packages (from python-benedict>=0.24.2->dvc[gdrive]->-r requirements.txt (line 11)) (4.1.16)\n",
      "Requirement already satisfied: ftfy<7.0.0,>=6.0.0 in /usr/lib/python3.10/site-packages (from python-benedict>=0.24.2->dvc[gdrive]->-r requirements.txt (line 11)) (6.1.1)\n",
      "Requirement already satisfied: xmltodict<1.0.0,>=0.12.0 in /usr/lib/python3.10/site-packages (from python-benedict>=0.24.2->dvc[gdrive]->-r requirements.txt (line 11)) (0.13.0)\n",
      "Requirement already satisfied: phonenumbers<9.0.0,>=8.12.0 in /usr/lib/python3.10/site-packages (from python-benedict>=0.24.2->dvc[gdrive]->-r requirements.txt (line 11)) (8.12.48)\n",
      "Requirement already satisfied: python-slugify<7.0.0,>=6.0.1 in /usr/lib/python3.10/site-packages (from python-benedict>=0.24.2->dvc[gdrive]->-r requirements.txt (line 11)) (6.1.2)\n",
      "Requirement already satisfied: python-fsutil<1.0.0,>=0.6.0 in /usr/lib/python3.10/site-packages (from python-benedict>=0.24.2->dvc[gdrive]->-r requirements.txt (line 11)) (0.6.0)\n",
      "Requirement already satisfied: chardet>=3.0.2 in /usr/lib/python3.10/site-packages (from requests>=2.19.0->datasets->-r requirements.txt (line 1)) (4.0.0)\n",
      "Requirement already satisfied: idna>=2.5 in /usr/lib/python3.10/site-packages (from requests>=2.19.0->datasets->-r requirements.txt (line 1)) (3.3)\n",
      "Requirement already satisfied: urllib3>=1.21.1 in /usr/lib/python3.10/site-packages (from requests>=2.19.0->datasets->-r requirements.txt (line 1)) (1.26.9)\n",
      "Requirement already satisfied: pygments<3.0.0,>=2.6.0 in /usr/lib/python3.10/site-packages (from rich>=10.13.0->dvc[gdrive]->-r requirements.txt (line 11)) (2.12.0)\n",
      "Requirement already satisfied: commonmark<0.10.0,>=0.9.0 in /usr/lib/python3.10/site-packages (from rich>=10.13.0->dvc[gdrive]->-r requirements.txt (line 11)) (0.9.1)\n",
      "Requirement already satisfied: ruamel.yaml.clib>=0.2.6 in /usr/lib/python3.10/site-packages (from ruamel.yaml>=0.17.11->dvc[gdrive]->-r requirements.txt (line 11)) (0.2.6)\n",
      "Requirement already satisfied: setuptools in /usr/lib/python3.10/site-packages (from zc.lockfile>=1.2.1->dvc[gdrive]->-r requirements.txt (line 11)) (60.6.0)\n",
      "Requirement already satisfied: attrs>=17.3.0 in /usr/lib/python3.10/site-packages (from aiohttp->datasets->-r requirements.txt (line 1)) (21.4.0)\n",
      "Requirement already satisfied: charset-normalizer<3.0,>=2.0 in /usr/lib/python3.10/site-packages (from aiohttp->datasets->-r requirements.txt (line 1)) (2.0.12)\n",
      "Requirement already satisfied: multidict<7.0,>=4.5 in /usr/lib/python3.10/site-packages (from aiohttp->datasets->-r requirements.txt (line 1)) (6.0.2)\n",
      "Requirement already satisfied: async_timeout<5.0,>=4.0.0a3 in /usr/lib/python3.10/site-packages (from aiohttp->datasets->-r requirements.txt (line 1)) (4.0.2)\n",
      "Requirement already satisfied: yarl<2.0,>=1.0 in /usr/lib/python3.10/site-packages (from aiohttp->datasets->-r requirements.txt (line 1)) (1.7.2)\n",
      "Requirement already satisfied: frozenlist>=1.1.1 in /usr/lib/python3.10/site-packages (from aiohttp->datasets->-r requirements.txt (line 1)) (1.3.0)\n",
      "Requirement already satisfied: aiosignal>=1.1.2 in /usr/lib/python3.10/site-packages (from aiohttp->datasets->-r requirements.txt (line 1)) (1.2.0)\n",
      "Requirement already satisfied: cryptography>=3.1 in /usr/lib/python3.10/site-packages (from asyncssh<3,>=2.7.1->scmrepo==0.0.19->dvc[gdrive]->-r requirements.txt (line 11)) (37.0.0)\n",
      "Requirement already satisfied: certifi in /usr/lib/python3.10/site-packages (from dulwich>=0.20.34->scmrepo==0.0.19->dvc[gdrive]->-r requirements.txt (line 11)) (2022.6.15)\n",
      "Requirement already satisfied: wcwidth>=0.2.5 in /usr/lib/python3.10/site-packages (from ftfy<7.0.0,>=6.0.0->python-benedict>=0.24.2->dvc[gdrive]->-r requirements.txt (line 11)) (0.2.5)\n",
      "Requirement already satisfied: gitdb<5,>=4.0.1 in /usr/lib/python3.10/site-packages (from gitpython>3->scmrepo==0.0.19->dvc[gdrive]->-r requirements.txt (line 11)) (4.0.9)\n",
      "Requirement already satisfied: google-auth<3.0.0dev,>=1.16.0 in /usr/lib/python3.10/site-packages (from google-api-python-client>=1.12.5->pydrive2[fsspec]>=1.10.1->dvc[gdrive]->-r requirements.txt (line 11)) (2.6.6)\n",
      "Requirement already satisfied: google-auth-httplib2>=0.1.0 in /usr/lib/python3.10/site-packages (from google-api-python-client>=1.12.5->pydrive2[fsspec]>=1.10.1->dvc[gdrive]->-r requirements.txt (line 11)) (0.1.0)\n",
      "Requirement already satisfied: google-api-core!=2.0.*,!=2.1.*,!=2.2.*,!=2.3.0,<3.0.0dev,>=1.31.5 in /usr/lib/python3.10/site-packages (from google-api-python-client>=1.12.5->pydrive2[fsspec]>=1.10.1->dvc[gdrive]->-r requirements.txt (line 11)) (2.8.0)\n",
      "Requirement already satisfied: uritemplate<5,>=3.0.1 in /usr/lib/python3.10/site-packages (from google-api-python-client>=1.12.5->pydrive2[fsspec]>=1.10.1->dvc[gdrive]->-r requirements.txt (line 11)) (4.1.1)\n",
      "Requirement already satisfied: httplib2<1dev,>=0.15.0 in /usr/lib/python3.10/site-packages (from google-api-python-client>=1.12.5->pydrive2[fsspec]>=1.10.1->dvc[gdrive]->-r requirements.txt (line 11)) (0.20.4)\n",
      "Requirement already satisfied: pyasn1>=0.1.7 in /usr/lib/python3.10/site-packages (from oauth2client>=4.0.0->pydrive2[fsspec]>=1.10.1->dvc[gdrive]->-r requirements.txt (line 11)) (0.4.8)\n",
      "Requirement already satisfied: pyasn1-modules>=0.0.5 in /usr/lib/python3.10/site-packages (from oauth2client>=4.0.0->pydrive2[fsspec]>=1.10.1->dvc[gdrive]->-r requirements.txt (line 11)) (0.2.7)\n",
      "Requirement already satisfied: rsa>=3.1.4 in /usr/lib/python3.10/site-packages (from oauth2client>=4.0.0->pydrive2[fsspec]>=1.10.1->dvc[gdrive]->-r requirements.txt (line 11)) (4.8)\n",
      "Requirement already satisfied: cffi>=1.9.1 in /usr/lib/python3.10/site-packages (from pygit2>=1.7.2->scmrepo==0.0.19->dvc[gdrive]->-r requirements.txt (line 11)) (1.15.0)\n",
      "Requirement already satisfied: text-unidecode>=1.3 in /usr/lib/python3.10/site-packages (from python-slugify<7.0.0,>=6.0.1->python-benedict>=0.24.2->dvc[gdrive]->-r requirements.txt (line 11)) (1.3)\n",
      "Requirement already satisfied: pycparser in /usr/lib/python3.10/site-packages (from cffi>=1.9.1->pygit2>=1.7.2->scmrepo==0.0.19->dvc[gdrive]->-r requirements.txt (line 11)) (2.21)\n",
      "Requirement already satisfied: smmap<6,>=3.0.1 in /usr/lib/python3.10/site-packages (from gitdb<5,>=4.0.1->gitpython>3->scmrepo==0.0.19->dvc[gdrive]->-r requirements.txt (line 11)) (5.0.0)\n",
      "Requirement already satisfied: protobuf>=3.12.0 in /usr/lib/python3.10/site-packages (from google-api-core!=2.0.*,!=2.1.*,!=2.2.*,!=2.3.0,<3.0.0dev,>=1.31.5->google-api-python-client>=1.12.5->pydrive2[fsspec]>=1.10.1->dvc[gdrive]->-r requirements.txt (line 11)) (3.20.1)\n",
      "Requirement already satisfied: googleapis-common-protos<2.0dev,>=1.52.0 in /usr/lib/python3.10/site-packages (from google-api-core!=2.0.*,!=2.1.*,!=2.2.*,!=2.3.0,<3.0.0dev,>=1.31.5->google-api-python-client>=1.12.5->pydrive2[fsspec]>=1.10.1->dvc[gdrive]->-r requirements.txt (line 11)) (1.56.1)\n",
      "Requirement already satisfied: cachetools<6.0,>=2.0.0 in /usr/lib/python3.10/site-packages (from google-auth<3.0.0dev,>=1.16.0->google-api-python-client>=1.12.5->pydrive2[fsspec]>=1.10.1->dvc[gdrive]->-r requirements.txt (line 11)) (5.0.0)\n"
     ]
    }
   ],
   "source": [
    "!pip install git_root\n",
    "\n",
    "PROJECT_ROOT = None\n",
    "in_colab = 'google.colab' in str(get_ipython())\n",
    "\n",
    "if in_colab:\n",
    "  print('Running on CoLab')\n",
    "  PROJECT_ROOT = \"/content/drive/MyDrive/DL4NLP/abstract-to-title-generation/\"\n",
    "  from google.colab import drive\n",
    "  drive.mount('/content/drive')\n",
    "\n",
    "else:\n",
    "  print('Running on local machine')\n",
    "  from git_root import git_root\n",
    "  PROJECT_ROOT = git_root()\n",
    "\n",
    "%cd {PROJECT_ROOT}\n",
    "# install requirements\n",
    "!pip install -r requirements.txt\n"
   ]
  },
  {
   "cell_type": "code",
   "execution_count": 3,
   "metadata": {
    "colab": {
     "base_uri": "https://localhost:8080/"
    },
    "executionInfo": {
     "elapsed": 9931,
     "status": "ok",
     "timestamp": 1653303821906,
     "user": {
      "displayName": "Jan Luca Itzeck",
      "userId": "10367492727450593373"
     },
     "user_tz": -120
    },
    "id": "C4hDgQ4bgVj2",
    "outputId": "6e4c9352-4712-4a36-8bcc-b9754dc31183"
   },
   "outputs": [
    {
     "name": "stdout",
     "output_type": "stream",
     "text": [
      "  0% Checkout|                                      |0/21 [00:00<?,     ?file/s]\n",
      "!\u001b[A\n",
      "Computing file/dir hashes (only done once)            |0.00 [00:00,      ?md5/s]\u001b[A\n",
      "                                                                                \u001b[A\n",
      "!\u001b[A\n",
      "  0%|          |51713988987e9331980363e24189ce.d0.00/2.00 [00:00<?,        ?B/s]\u001b[A\n",
      "  0%|          |51713988987e9331980363e24189ce.d0.00/2.00 [00:00<?,        ?B/s]\u001b[A\n",
      "Everything is up to date.                                                       \u001b[A\n",
      "\u001b[0m"
     ]
    }
   ],
   "source": [
    "# pull data only pulls changed data\n",
    "!dvc pull"
   ]
  },
  {
   "cell_type": "code",
   "execution_count": 4,
   "metadata": {
    "executionInfo": {
     "elapsed": 6,
     "status": "ok",
     "timestamp": 1653303825689,
     "user": {
      "displayName": "Jan Luca Itzeck",
      "userId": "10367492727450593373"
     },
     "user_tz": -120
    },
    "id": "6E4yq2qUfirk",
    "pycharm": {
     "name": "#%%\n"
    }
   },
   "outputs": [],
   "source": [
    "model_checkpoint = 'facebook/bart-large-xsum'"
   ]
  },
  {
   "cell_type": "code",
   "execution_count": 5,
   "metadata": {
    "executionInfo": {
     "elapsed": 5,
     "status": "ok",
     "timestamp": 1653303826745,
     "user": {
      "displayName": "Jan Luca Itzeck",
      "userId": "10367492727450593373"
     },
     "user_tz": -120
    },
    "id": "Se4Zgs9hfirm",
    "pycharm": {
     "name": "#%%\n"
    }
   },
   "outputs": [
    {
     "name": "stderr",
     "output_type": "stream",
     "text": [
      "/usr/lib/python3.10/site-packages/tqdm/auto.py:22: TqdmWarning: IProgress not found. Please update jupyter and ipywidgets. See https://ipywidgets.readthedocs.io/en/stable/user_install.html\n",
      "  from .autonotebook import tqdm as notebook_tqdm\n"
     ]
    }
   ],
   "source": [
    "from datasets import Dataset, load_dataset, load_metric\n",
    "from transformers import AutoModelForSeq2SeqLM, DataCollatorForSeq2Seq, Seq2SeqTrainingArguments, Seq2SeqTrainer, AutoTokenizer\n",
    "import nltk\n",
    "import numpy as np\n",
    "import pandas as pd"
   ]
  },
  {
   "cell_type": "markdown",
   "metadata": {
    "id": "v0wi69-Gfirn"
   },
   "source": [
    "## Training"
   ]
  },
  {
   "cell_type": "code",
   "execution_count": 6,
   "metadata": {
    "executionInfo": {
     "elapsed": 3073,
     "status": "ok",
     "timestamp": 1653303831732,
     "user": {
      "displayName": "Jan Luca Itzeck",
      "userId": "10367492727450593373"
     },
     "user_tz": -120
    },
    "id": "NkTuY4IMfiro",
    "pycharm": {
     "name": "#%%\n"
    }
   },
   "outputs": [
    {
     "name": "stderr",
     "output_type": "stream",
     "text": [
      "Downloading: 100%|██████████| 26.0/26.0 [00:00<00:00, 19.1kB/s]\n",
      "Downloading: 100%|██████████| 1.48k/1.48k [00:00<00:00, 639kB/s]\n",
      "Downloading: 100%|██████████| 878k/878k [00:01<00:00, 761kB/s]  \n",
      "Downloading: 100%|██████████| 446k/446k [00:00<00:00, 645kB/s] \n",
      "Downloading: 100%|██████████| 1.29M/1.29M [00:01<00:00, 814kB/s]\n"
     ]
    }
   ],
   "source": [
    "tokenizer = AutoTokenizer.from_pretrained(model_checkpoint)"
   ]
  },
  {
   "cell_type": "code",
   "execution_count": 7,
   "metadata": {
    "colab": {
     "base_uri": "https://localhost:8080/",
     "height": 49,
     "referenced_widgets": [
      "c1584b02d0e6487182370675fb2c8078",
      "10834f4fa33e49a79fcda397e15bd13a",
      "676205abebce4d0eb1b61cd5c51c71cd",
      "6dbe40b51f814b7d8b26b06c619d9632",
      "705850cd156744969c5707439a3c20ec",
      "712d422c808943388af8f2246c77807b",
      "f322a4d03986457d9ad41f3e5648d930",
      "7271e6f3300f42fe80995be7338c1b27",
      "1bfec15911e6426eb496be25c120301c",
      "335ac4949e124300a2b8cae20c295b77",
      "169cd3e30f034c09b1e3f7b1b5e1fd21"
     ]
    },
    "executionInfo": {
     "elapsed": 37895,
     "status": "ok",
     "timestamp": 1653303044146,
     "user": {
      "displayName": "Jan Luca Itzeck",
      "userId": "10367492727450593373"
     },
     "user_tz": -120
    },
    "id": "xMH1Lmg6firq",
    "outputId": "74bde5b4-d350-4568-e0cd-1b581930166a",
    "pycharm": {
     "name": "#%%\n"
    }
   },
   "outputs": [
    {
     "name": "stderr",
     "output_type": "stream",
     "text": [
      "Downloading: 100%|██████████| 1.51G/1.51G [30:17<00:00, 894kB/s] \n"
     ]
    }
   ],
   "source": [
    "model = AutoModelForSeq2SeqLM.from_pretrained(model_checkpoint)"
   ]
  },
  {
   "cell_type": "code",
   "execution_count": null,
   "metadata": {
    "colab": {
     "base_uri": "https://localhost:8080/",
     "height": 424
    },
    "executionInfo": {
     "elapsed": 468,
     "status": "ok",
     "timestamp": 1653304228150,
     "user": {
      "displayName": "Jan Luca Itzeck",
      "userId": "10367492727450593373"
     },
     "user_tz": -120
    },
    "id": "2oJfl7zTfirs",
    "outputId": "6558329d-ab6b-472c-f060-e147a1326bff",
    "pycharm": {
     "name": "#%%\n"
    }
   },
   "outputs": [],
   "source": [
    "df = pd.read_csv(f\"{PROJECT_ROOT}/data/filtered/Kopie von train_pairs.csv\", index_col=0)\n",
    "df"
   ]
  },
  {
   "cell_type": "code",
   "execution_count": null,
   "metadata": {
    "executionInfo": {
     "elapsed": 7,
     "status": "ok",
     "timestamp": 1653303868237,
     "user": {
      "displayName": "Jan Luca Itzeck",
      "userId": "10367492727450593373"
     },
     "user_tz": -120
    },
    "id": "IbZo5eu8firu",
    "pycharm": {
     "name": "#%%\n"
    }
   },
   "outputs": [],
   "source": [
    "df.reset_index(drop=True, inplace=True)"
   ]
  },
  {
   "cell_type": "code",
   "execution_count": null,
   "metadata": {
    "executionInfo": {
     "elapsed": 246,
     "status": "ok",
     "timestamp": 1653304014610,
     "user": {
      "displayName": "Jan Luca Itzeck",
      "userId": "10367492727450593373"
     },
     "user_tz": -120
    },
    "id": "kcD89UWrfirx",
    "pycharm": {
     "name": "#%%\n"
    }
   },
   "outputs": [],
   "source": [
    "df = df.drop(columns=[\"title_length\", \"abstract_length\"])#, \"token_len\"])"
   ]
  },
  {
   "cell_type": "code",
   "execution_count": null,
   "metadata": {
    "executionInfo": {
     "elapsed": 233,
     "status": "ok",
     "timestamp": 1653304018382,
     "user": {
      "displayName": "Jan Luca Itzeck",
      "userId": "10367492727450593373"
     },
     "user_tz": -120
    },
    "id": "sW4Akzo9firy",
    "pycharm": {
     "name": "#%%\n"
    }
   },
   "outputs": [],
   "source": [
    "df_train = df[:11864]\n",
    "df_valid = df[11864:]"
   ]
  },
  {
   "cell_type": "code",
   "execution_count": null,
   "metadata": {
    "executionInfo": {
     "elapsed": 337,
     "status": "ok",
     "timestamp": 1653304019779,
     "user": {
      "displayName": "Jan Luca Itzeck",
      "userId": "10367492727450593373"
     },
     "user_tz": -120
    },
    "id": "n4hQmbspfirz",
    "pycharm": {
     "name": "#%%\n"
    }
   },
   "outputs": [],
   "source": [
    "train_dataset = Dataset.from_pandas(df_train)\n",
    "valid_dataset = Dataset.from_pandas(df_valid)\n",
    "metric = load_metric(\"rouge\")\n"
   ]
  },
  {
   "cell_type": "code",
   "execution_count": null,
   "metadata": {
    "colab": {
     "base_uri": "https://localhost:8080/",
     "height": 424
    },
    "executionInfo": {
     "elapsed": 236,
     "status": "ok",
     "timestamp": 1653304023448,
     "user": {
      "displayName": "Jan Luca Itzeck",
      "userId": "10367492727450593373"
     },
     "user_tz": -120
    },
    "id": "h4W4i2Ylfir0",
    "outputId": "16d1d00b-08ef-4fc1-d3fb-56a2ac3e953c",
    "pycharm": {
     "name": "#%%\n"
    }
   },
   "outputs": [],
   "source": [
    "df_train"
   ]
  },
  {
   "cell_type": "code",
   "execution_count": null,
   "metadata": {
    "executionInfo": {
     "elapsed": 341,
     "status": "ok",
     "timestamp": 1653304026373,
     "user": {
      "displayName": "Jan Luca Itzeck",
      "userId": "10367492727450593373"
     },
     "user_tz": -120
    },
    "id": "_Nx1_Agffir1",
    "pycharm": {
     "name": "#%%\n"
    }
   },
   "outputs": [],
   "source": [
    "max_input_length = 1024\n",
    "max_target_length = 512\n",
    "\n",
    "def preprocess_function(examples):\n",
    "    model_inputs = tokenizer(examples[\"abstract\"], max_length=max_input_length, truncation=True)\n",
    "\n",
    "    # Setup the tokenizer for targets\n",
    "    with tokenizer.as_target_tokenizer():\n",
    "        labels = tokenizer(examples[\"title\"], max_length=max_target_length, truncation=True)\n",
    "\n",
    "    model_inputs[\"labels\"] = labels[\"input_ids\"]\n",
    "    return model_inputs"
   ]
  },
  {
   "cell_type": "code",
   "execution_count": null,
   "metadata": {
    "colab": {
     "base_uri": "https://localhost:8080/"
    },
    "executionInfo": {
     "elapsed": 7,
     "status": "ok",
     "timestamp": 1653304028895,
     "user": {
      "displayName": "Jan Luca Itzeck",
      "userId": "10367492727450593373"
     },
     "user_tz": -120
    },
    "id": "g7-0PhGnfir2",
    "outputId": "80ebaa95-542e-41d9-f1f4-e79632904c5d",
    "pycharm": {
     "name": "#%%\n"
    }
   },
   "outputs": [],
   "source": [
    "preprocess_function(valid_dataset[:2])"
   ]
  },
  {
   "cell_type": "code",
   "execution_count": null,
   "metadata": {
    "colab": {
     "base_uri": "https://localhost:8080/",
     "height": 81,
     "referenced_widgets": [
      "992caeb0dadd4ccea1a342639fe91a0d",
      "ff7af05e306548e1a6348c89eb0e8213",
      "a56015136ed44626a096dd14e9d85bfa",
      "898da8f41e344267a3757a4990a8b41a",
      "e045f28ce5684169a097abc0461d07f4",
      "b29550b9a37445ecae37f8227e6a213f",
      "88430346adb740d09c8dd1ada85e67a6",
      "23a7f213ffaa45f1b9ef899d068cd678",
      "b5c09026197549ea898733b1cc322bc7",
      "47036c5e11dd4253b6eb08052727ba3f",
      "9b4e2656c2a24ac09e90c11a59be1c9a",
      "76f16492efd34d2f821bb4b466c26a16",
      "726f33d1147a4e2f81f664ad4081ee0f",
      "dbbea91468704f779c0839f434a5adb0",
      "c8332235343d4dfea41ee9fe3f7e58da",
      "0de2495e24134a5392675dcb92a77361",
      "2f1bb81e262f4f768bacf4ea97c49ba0",
      "b10dfe82009f428db22bb676c507d8ed",
      "f42715c37929436c9afe04f5e0ec9d3b",
      "167efb0d40d44af7a7567164fc6bf9db",
      "046e804fac74437ba8970513798a5307",
      "1c05a230a9034f34981b1da0d699fec1"
     ]
    },
    "executionInfo": {
     "elapsed": 10164,
     "status": "ok",
     "timestamp": 1653304041268,
     "user": {
      "displayName": "Jan Luca Itzeck",
      "userId": "10367492727450593373"
     },
     "user_tz": -120
    },
    "id": "vKuUAc_efir3",
    "outputId": "1ec2b376-d04d-4f67-c0c2-e5f635fe5622",
    "pycharm": {
     "name": "#%%\n"
    }
   },
   "outputs": [],
   "source": [
    "train_dataset = train_dataset.map(preprocess_function, batched=True)\n",
    "valid_dataset = valid_dataset.map(preprocess_function, batched=True)"
   ]
  },
  {
   "cell_type": "code",
   "execution_count": null,
   "metadata": {
    "executionInfo": {
     "elapsed": 241,
     "status": "ok",
     "timestamp": 1653304049574,
     "user": {
      "displayName": "Jan Luca Itzeck",
      "userId": "10367492727450593373"
     },
     "user_tz": -120
    },
    "id": "SLHd5pfVfir4",
    "pycharm": {
     "name": "#%%\n"
    }
   },
   "outputs": [],
   "source": [
    "batch_size = 3\n",
    "model_name = model_checkpoint.split(\"/\")[-1]\n",
    "args = Seq2SeqTrainingArguments(\n",
    "    f\"{model_name}-finetuned-lm_al_paper\",\n",
    "    evaluation_strategy = \"epoch\",\n",
    "    learning_rate=3e-5,\n",
    "    per_device_train_batch_size=batch_size,\n",
    "    per_device_eval_batch_size=4,\n",
    "    weight_decay=0.01,\n",
    "    save_total_limit=2,\n",
    "    num_train_epochs=3,\n",
    "    predict_with_generate=True,\n",
    "    fp16=True,\n",
    "    push_to_hub=False,\n",
    "    gradient_accumulation_steps=8,\n",
    "    save_steps = 800,\n",
    "    logging_steps = 185,\n",
    ")"
   ]
  },
  {
   "cell_type": "code",
   "execution_count": null,
   "metadata": {
    "executionInfo": {
     "elapsed": 5,
     "status": "ok",
     "timestamp": 1653304051926,
     "user": {
      "displayName": "Jan Luca Itzeck",
      "userId": "10367492727450593373"
     },
     "user_tz": -120
    },
    "id": "wZJdrOutfir5",
    "pycharm": {
     "name": "#%%\n"
    }
   },
   "outputs": [],
   "source": [
    "data_collator = DataCollatorForSeq2Seq(tokenizer, model=model)"
   ]
  },
  {
   "cell_type": "markdown",
   "metadata": {
    "collapsed": false,
    "id": "WLYXE-wKfir5",
    "pycharm": {
     "name": "#%% md\n"
    }
   },
   "source": [
    "\n",
    "\n",
    "\n",
    "```\n",
    "Examples:\n",
    "    >>> predictions = [\"hello there\", \"general kenobi\"]\n",
    "    >>> references = [\"hello there\", \"general kenobi\"]\n",
    "    >>> bertscore = datasets.load_metric(\"bertscore\")\n",
    "    >>> results = bertscore.compute(predictions=predictions, references=references, lang=\"en\")\n",
    "    >>> print([round(v, 2) for v in results[\"f1\"]])\n",
    "    [1.0, 1.0]\n",
    "  \n",
    "```\n",
    "\n"
   ]
  },
  {
   "cell_type": "code",
   "execution_count": null,
   "metadata": {
    "colab": {
     "base_uri": "https://localhost:8080/"
    },
    "executionInfo": {
     "elapsed": 1470,
     "status": "ok",
     "timestamp": 1653304056759,
     "user": {
      "displayName": "Jan Luca Itzeck",
      "userId": "10367492727450593373"
     },
     "user_tz": -120
    },
    "id": "Q3P5QO98fir7",
    "outputId": "274a0598-f6db-4533-b26e-1eb217ec3a09",
    "pycharm": {
     "name": "#%%\n"
    }
   },
   "outputs": [],
   "source": [
    "nltk.download('punkt')\n",
    "def compute_metrics(eval_pred):\n",
    "    predictions, labels = eval_pred\n",
    "    decoded_preds = tokenizer.batch_decode(predictions, skip_special_tokens=True)\n",
    "    # Replace -100 in the labels as we can't decode them.\n",
    "    labels = np.where(labels != -100, labels, tokenizer.pad_token_id)\n",
    "    decoded_labels = tokenizer.batch_decode(labels, skip_special_tokens=True)\n",
    "\n",
    "    # Rouge expects a newline after each sentence\n",
    "    decoded_preds = [\"\\n\".join(nltk.sent_tokenize(pred.strip())) for pred in decoded_preds]\n",
    "    decoded_labels = [\"\\n\".join(nltk.sent_tokenize(label.strip())) for label in decoded_labels]\n",
    "\n",
    "    result = metric.compute(predictions=decoded_preds, references=decoded_labels, use_stemmer=True)\n",
    "    # Extract a few results\n",
    "    result = {key: value.mid.fmeasure * 100 for key, value in result.items()}\n",
    "\n",
    "    # Add mean generated length\n",
    "    prediction_lens = [np.count_nonzero(pred != tokenizer.pad_token_id) for pred in predictions]\n",
    "    result[\"gen_len\"] = np.mean(prediction_lens)\n",
    "\n",
    "    return {k: round(v, 4) for k, v in result.items()}"
   ]
  },
  {
   "cell_type": "code",
   "execution_count": null,
   "metadata": {
    "colab": {
     "base_uri": "https://localhost:8080/"
    },
    "executionInfo": {
     "elapsed": 17283,
     "status": "ok",
     "timestamp": 1653304076879,
     "user": {
      "displayName": "Jan Luca Itzeck",
      "userId": "10367492727450593373"
     },
     "user_tz": -120
    },
    "id": "bK4snxLYfir9",
    "outputId": "fcb64a30-7c73-4ca8-936f-2e068512cbe9",
    "pycharm": {
     "name": "#%%\n"
    }
   },
   "outputs": [],
   "source": [
    "trainer = Seq2SeqTrainer(\n",
    "    model,\n",
    "    args,\n",
    "    train_dataset=train_dataset,\n",
    "    eval_dataset=valid_dataset,\n",
    "    data_collator=data_collator,\n",
    "    tokenizer=tokenizer,\n",
    "    compute_metrics=compute_metrics\n",
    ")"
   ]
  },
  {
   "cell_type": "code",
   "execution_count": null,
   "metadata": {
    "id": "zp6dlmoDfir-",
    "pycharm": {
     "name": "#%%\n"
    }
   },
   "outputs": [],
   "source": [
    "trainer.train()"
   ]
  },
  {
   "cell_type": "code",
   "execution_count": null,
   "metadata": {
    "id": "ynOZIXPSfir_",
    "pycharm": {
     "name": "#%%\n"
    }
   },
   "outputs": [],
   "source": [
    "model.save_pretrained(\"../model/BART-XSum/\")\n"
   ]
  },
  {
   "cell_type": "markdown",
   "metadata": {
    "id": "SRQDoe5NfisA"
   },
   "source": [
    "## Testing"
   ]
  },
  {
   "cell_type": "code",
   "execution_count": null,
   "metadata": {
    "id": "2suYNObUfisB",
    "pycharm": {
     "name": "#%%\n"
    }
   },
   "outputs": [],
   "source": [
    "model = AutoModelForSeq2SeqLM.from_pretrained(\"../model/BART-XSum/pytorch_model.bin\")\n",
    "tokenizer = AutoTokenizer.from_pretrained(model_checkpoint)"
   ]
  },
  {
   "cell_type": "code",
   "execution_count": null,
   "metadata": {
    "id": "hYO8Lx4-fisB",
    "pycharm": {
     "name": "#%%\n"
    }
   },
   "outputs": [],
   "source": [
    "model.to(\"cuda\")"
   ]
  },
  {
   "cell_type": "code",
   "execution_count": null,
   "metadata": {
    "id": "vA1GRvV-fisB",
    "pycharm": {
     "name": "#%%\n"
    }
   },
   "outputs": [],
   "source": [
    "test_samples = pd.read_csv(\"../data/filtered/test_pairs.csv\", index_col=0)\n",
    "test_samples"
   ]
  },
  {
   "cell_type": "code",
   "execution_count": null,
   "metadata": {
    "id": "gJkJ7UsNUR8E",
    "pycharm": {
     "name": "#%%\n"
    }
   },
   "outputs": [],
   "source": [
    "abstracts = test_samples.abstract.to_list()\n",
    "titles = test_samples.title.to_list()"
   ]
  },
  {
   "cell_type": "code",
   "execution_count": null,
   "metadata": {
    "id": "kt3IloOwZ_uY",
    "pycharm": {
     "name": "#%%\n"
    }
   },
   "outputs": [],
   "source": [
    "def creat_eval_pairs(model, tokenizer, abstracts, titles):\n",
    "  preds = []\n",
    "  for abstract, title in zip(abstracts, titles):\n",
    "    encoding = tokenizer.encode_plus(abstract, return_tensors = \"pt\")\n",
    "    inputs = encoding[\"input_ids\"].to(\"cuda\")\n",
    "    attention_masks = encoding[\"attention_mask\"].to(\"cuda\")\n",
    "    title_ids = model.generate(\n",
    "            input_ids = inputs,\n",
    "            attention_mask = attention_masks,\n",
    "            max_length = 30,\n",
    "            num_beams = 5,\n",
    "            num_return_sequences = 5,\n",
    "            repetition_penalty = 2.0,\n",
    "            length_penalty =  10.0,\n",
    "            early_stopping = True,\n",
    "          )\n",
    "    result = [tokenizer.decode(g, skip_special_tokens = True, clean_up_tokenization_spaces = True) for g in title_ids]\n",
    "    s = \"\"\n",
    "    for t in result:\n",
    "      s = s + \"<TITLE>\" + t\n",
    "    preds.append(s)\n",
    "    if len(preds) % 500 == 0:\n",
    "      print(\"original title: \", title)\n",
    "      print(\"generated title: \", preds[-1:])\n",
    "  return preds, titles"
   ]
  },
  {
   "cell_type": "code",
   "execution_count": null,
   "metadata": {
    "colab": {
     "base_uri": "https://localhost:8080/"
    },
    "executionInfo": {
     "elapsed": 775727,
     "status": "ok",
     "timestamp": 1644055522099,
     "user": {
      "displayName": "yichen xie",
      "photoUrl": "https://lh3.googleusercontent.com/a/default-user=s64",
      "userId": "05370341903943803742"
     },
     "user_tz": -60
    },
    "id": "HKhygWb3bZMx",
    "outputId": "62a83c4e-96fc-45bc-ed6e-4458b9506ecf",
    "pycharm": {
     "name": "#%%\n"
    }
   },
   "outputs": [],
   "source": [
    "preds, titles = creat_eval_pairs(model, tokenizer, abstracts, titles)"
   ]
  }
 ],
 "metadata": {
  "accelerator": "GPU",
  "colab": {
   "collapsed_sections": [],
   "machine_shape": "hm",
   "name": "bart_large_xsum_huggingface_trainer.ipynb",
   "provenance": [
    {
     "file_id": "1HJjGJSGzgcgrE_dD9nCE0uOwl5EWlL_6",
     "timestamp": 1643965701467
    },
    {
     "file_id": "1DlV2tsDOx5o4ZQRKCAWsxHcUYcURFRHm",
     "timestamp": 1643234729469
    }
   ]
  },
  "kernelspec": {
   "display_name": "Python 3.10.4 64-bit",
   "language": "python",
   "name": "python3"
  },
  "language_info": {
   "codemirror_mode": {
    "name": "ipython",
    "version": 3
   },
   "file_extension": ".py",
   "mimetype": "text/x-python",
   "name": "python",
   "nbconvert_exporter": "python",
   "pygments_lexer": "ipython3",
   "version": "3.10.4"
  },
  "vscode": {
   "interpreter": {
    "hash": "e7370f93d1d0cde622a1f8e1c04877d8463912d04d973331ad4851f04de6915a"
   }
  },
  "widgets": {
   "application/vnd.jupyter.widget-state+json": {
    "046e804fac74437ba8970513798a5307": {
     "model_module": "@jupyter-widgets/base",
     "model_module_version": "1.2.0",
     "model_name": "LayoutModel",
     "state": {
      "_model_module": "@jupyter-widgets/base",
      "_model_module_version": "1.2.0",
      "_model_name": "LayoutModel",
      "_view_count": null,
      "_view_module": "@jupyter-widgets/base",
      "_view_module_version": "1.2.0",
      "_view_name": "LayoutView",
      "align_content": null,
      "align_items": null,
      "align_self": null,
      "border": null,
      "bottom": null,
      "display": null,
      "flex": null,
      "flex_flow": null,
      "grid_area": null,
      "grid_auto_columns": null,
      "grid_auto_flow": null,
      "grid_auto_rows": null,
      "grid_column": null,
      "grid_gap": null,
      "grid_row": null,
      "grid_template_areas": null,
      "grid_template_columns": null,
      "grid_template_rows": null,
      "height": null,
      "justify_content": null,
      "justify_items": null,
      "left": null,
      "margin": null,
      "max_height": null,
      "max_width": null,
      "min_height": null,
      "min_width": null,
      "object_fit": null,
      "object_position": null,
      "order": null,
      "overflow": null,
      "overflow_x": null,
      "overflow_y": null,
      "padding": null,
      "right": null,
      "top": null,
      "visibility": null,
      "width": null
     }
    },
    "0de2495e24134a5392675dcb92a77361": {
     "model_module": "@jupyter-widgets/base",
     "model_module_version": "1.2.0",
     "model_name": "LayoutModel",
     "state": {
      "_model_module": "@jupyter-widgets/base",
      "_model_module_version": "1.2.0",
      "_model_name": "LayoutModel",
      "_view_count": null,
      "_view_module": "@jupyter-widgets/base",
      "_view_module_version": "1.2.0",
      "_view_name": "LayoutView",
      "align_content": null,
      "align_items": null,
      "align_self": null,
      "border": null,
      "bottom": null,
      "display": null,
      "flex": null,
      "flex_flow": null,
      "grid_area": null,
      "grid_auto_columns": null,
      "grid_auto_flow": null,
      "grid_auto_rows": null,
      "grid_column": null,
      "grid_gap": null,
      "grid_row": null,
      "grid_template_areas": null,
      "grid_template_columns": null,
      "grid_template_rows": null,
      "height": null,
      "justify_content": null,
      "justify_items": null,
      "left": null,
      "margin": null,
      "max_height": null,
      "max_width": null,
      "min_height": null,
      "min_width": null,
      "object_fit": null,
      "object_position": null,
      "order": null,
      "overflow": null,
      "overflow_x": null,
      "overflow_y": null,
      "padding": null,
      "right": null,
      "top": null,
      "visibility": null,
      "width": null
     }
    },
    "10834f4fa33e49a79fcda397e15bd13a": {
     "model_module": "@jupyter-widgets/controls",
     "model_module_version": "1.5.0",
     "model_name": "HTMLModel",
     "state": {
      "_dom_classes": [],
      "_model_module": "@jupyter-widgets/controls",
      "_model_module_version": "1.5.0",
      "_model_name": "HTMLModel",
      "_view_count": null,
      "_view_module": "@jupyter-widgets/controls",
      "_view_module_version": "1.5.0",
      "_view_name": "HTMLView",
      "description": "",
      "description_tooltip": null,
      "layout": "IPY_MODEL_712d422c808943388af8f2246c77807b",
      "placeholder": "​",
      "style": "IPY_MODEL_f322a4d03986457d9ad41f3e5648d930",
      "value": "Downloading: 100%"
     }
    },
    "167efb0d40d44af7a7567164fc6bf9db": {
     "model_module": "@jupyter-widgets/controls",
     "model_module_version": "1.5.0",
     "model_name": "ProgressStyleModel",
     "state": {
      "_model_module": "@jupyter-widgets/controls",
      "_model_module_version": "1.5.0",
      "_model_name": "ProgressStyleModel",
      "_view_count": null,
      "_view_module": "@jupyter-widgets/base",
      "_view_module_version": "1.2.0",
      "_view_name": "StyleView",
      "bar_color": null,
      "description_width": ""
     }
    },
    "169cd3e30f034c09b1e3f7b1b5e1fd21": {
     "model_module": "@jupyter-widgets/controls",
     "model_module_version": "1.5.0",
     "model_name": "DescriptionStyleModel",
     "state": {
      "_model_module": "@jupyter-widgets/controls",
      "_model_module_version": "1.5.0",
      "_model_name": "DescriptionStyleModel",
      "_view_count": null,
      "_view_module": "@jupyter-widgets/base",
      "_view_module_version": "1.2.0",
      "_view_name": "StyleView",
      "description_width": ""
     }
    },
    "1bfec15911e6426eb496be25c120301c": {
     "model_module": "@jupyter-widgets/controls",
     "model_module_version": "1.5.0",
     "model_name": "ProgressStyleModel",
     "state": {
      "_model_module": "@jupyter-widgets/controls",
      "_model_module_version": "1.5.0",
      "_model_name": "ProgressStyleModel",
      "_view_count": null,
      "_view_module": "@jupyter-widgets/base",
      "_view_module_version": "1.2.0",
      "_view_name": "StyleView",
      "bar_color": null,
      "description_width": ""
     }
    },
    "1c05a230a9034f34981b1da0d699fec1": {
     "model_module": "@jupyter-widgets/controls",
     "model_module_version": "1.5.0",
     "model_name": "DescriptionStyleModel",
     "state": {
      "_model_module": "@jupyter-widgets/controls",
      "_model_module_version": "1.5.0",
      "_model_name": "DescriptionStyleModel",
      "_view_count": null,
      "_view_module": "@jupyter-widgets/base",
      "_view_module_version": "1.2.0",
      "_view_name": "StyleView",
      "description_width": ""
     }
    },
    "23a7f213ffaa45f1b9ef899d068cd678": {
     "model_module": "@jupyter-widgets/base",
     "model_module_version": "1.2.0",
     "model_name": "LayoutModel",
     "state": {
      "_model_module": "@jupyter-widgets/base",
      "_model_module_version": "1.2.0",
      "_model_name": "LayoutModel",
      "_view_count": null,
      "_view_module": "@jupyter-widgets/base",
      "_view_module_version": "1.2.0",
      "_view_name": "LayoutView",
      "align_content": null,
      "align_items": null,
      "align_self": null,
      "border": null,
      "bottom": null,
      "display": null,
      "flex": null,
      "flex_flow": null,
      "grid_area": null,
      "grid_auto_columns": null,
      "grid_auto_flow": null,
      "grid_auto_rows": null,
      "grid_column": null,
      "grid_gap": null,
      "grid_row": null,
      "grid_template_areas": null,
      "grid_template_columns": null,
      "grid_template_rows": null,
      "height": null,
      "justify_content": null,
      "justify_items": null,
      "left": null,
      "margin": null,
      "max_height": null,
      "max_width": null,
      "min_height": null,
      "min_width": null,
      "object_fit": null,
      "object_position": null,
      "order": null,
      "overflow": null,
      "overflow_x": null,
      "overflow_y": null,
      "padding": null,
      "right": null,
      "top": null,
      "visibility": null,
      "width": null
     }
    },
    "2f1bb81e262f4f768bacf4ea97c49ba0": {
     "model_module": "@jupyter-widgets/base",
     "model_module_version": "1.2.0",
     "model_name": "LayoutModel",
     "state": {
      "_model_module": "@jupyter-widgets/base",
      "_model_module_version": "1.2.0",
      "_model_name": "LayoutModel",
      "_view_count": null,
      "_view_module": "@jupyter-widgets/base",
      "_view_module_version": "1.2.0",
      "_view_name": "LayoutView",
      "align_content": null,
      "align_items": null,
      "align_self": null,
      "border": null,
      "bottom": null,
      "display": null,
      "flex": null,
      "flex_flow": null,
      "grid_area": null,
      "grid_auto_columns": null,
      "grid_auto_flow": null,
      "grid_auto_rows": null,
      "grid_column": null,
      "grid_gap": null,
      "grid_row": null,
      "grid_template_areas": null,
      "grid_template_columns": null,
      "grid_template_rows": null,
      "height": null,
      "justify_content": null,
      "justify_items": null,
      "left": null,
      "margin": null,
      "max_height": null,
      "max_width": null,
      "min_height": null,
      "min_width": null,
      "object_fit": null,
      "object_position": null,
      "order": null,
      "overflow": null,
      "overflow_x": null,
      "overflow_y": null,
      "padding": null,
      "right": null,
      "top": null,
      "visibility": null,
      "width": null
     }
    },
    "335ac4949e124300a2b8cae20c295b77": {
     "model_module": "@jupyter-widgets/base",
     "model_module_version": "1.2.0",
     "model_name": "LayoutModel",
     "state": {
      "_model_module": "@jupyter-widgets/base",
      "_model_module_version": "1.2.0",
      "_model_name": "LayoutModel",
      "_view_count": null,
      "_view_module": "@jupyter-widgets/base",
      "_view_module_version": "1.2.0",
      "_view_name": "LayoutView",
      "align_content": null,
      "align_items": null,
      "align_self": null,
      "border": null,
      "bottom": null,
      "display": null,
      "flex": null,
      "flex_flow": null,
      "grid_area": null,
      "grid_auto_columns": null,
      "grid_auto_flow": null,
      "grid_auto_rows": null,
      "grid_column": null,
      "grid_gap": null,
      "grid_row": null,
      "grid_template_areas": null,
      "grid_template_columns": null,
      "grid_template_rows": null,
      "height": null,
      "justify_content": null,
      "justify_items": null,
      "left": null,
      "margin": null,
      "max_height": null,
      "max_width": null,
      "min_height": null,
      "min_width": null,
      "object_fit": null,
      "object_position": null,
      "order": null,
      "overflow": null,
      "overflow_x": null,
      "overflow_y": null,
      "padding": null,
      "right": null,
      "top": null,
      "visibility": null,
      "width": null
     }
    },
    "47036c5e11dd4253b6eb08052727ba3f": {
     "model_module": "@jupyter-widgets/base",
     "model_module_version": "1.2.0",
     "model_name": "LayoutModel",
     "state": {
      "_model_module": "@jupyter-widgets/base",
      "_model_module_version": "1.2.0",
      "_model_name": "LayoutModel",
      "_view_count": null,
      "_view_module": "@jupyter-widgets/base",
      "_view_module_version": "1.2.0",
      "_view_name": "LayoutView",
      "align_content": null,
      "align_items": null,
      "align_self": null,
      "border": null,
      "bottom": null,
      "display": null,
      "flex": null,
      "flex_flow": null,
      "grid_area": null,
      "grid_auto_columns": null,
      "grid_auto_flow": null,
      "grid_auto_rows": null,
      "grid_column": null,
      "grid_gap": null,
      "grid_row": null,
      "grid_template_areas": null,
      "grid_template_columns": null,
      "grid_template_rows": null,
      "height": null,
      "justify_content": null,
      "justify_items": null,
      "left": null,
      "margin": null,
      "max_height": null,
      "max_width": null,
      "min_height": null,
      "min_width": null,
      "object_fit": null,
      "object_position": null,
      "order": null,
      "overflow": null,
      "overflow_x": null,
      "overflow_y": null,
      "padding": null,
      "right": null,
      "top": null,
      "visibility": null,
      "width": null
     }
    },
    "676205abebce4d0eb1b61cd5c51c71cd": {
     "model_module": "@jupyter-widgets/controls",
     "model_module_version": "1.5.0",
     "model_name": "FloatProgressModel",
     "state": {
      "_dom_classes": [],
      "_model_module": "@jupyter-widgets/controls",
      "_model_module_version": "1.5.0",
      "_model_name": "FloatProgressModel",
      "_view_count": null,
      "_view_module": "@jupyter-widgets/controls",
      "_view_module_version": "1.5.0",
      "_view_name": "ProgressView",
      "bar_style": "success",
      "description": "",
      "description_tooltip": null,
      "layout": "IPY_MODEL_7271e6f3300f42fe80995be7338c1b27",
      "max": 1625270765,
      "min": 0,
      "orientation": "horizontal",
      "style": "IPY_MODEL_1bfec15911e6426eb496be25c120301c",
      "value": 1625270765
     }
    },
    "6dbe40b51f814b7d8b26b06c619d9632": {
     "model_module": "@jupyter-widgets/controls",
     "model_module_version": "1.5.0",
     "model_name": "HTMLModel",
     "state": {
      "_dom_classes": [],
      "_model_module": "@jupyter-widgets/controls",
      "_model_module_version": "1.5.0",
      "_model_name": "HTMLModel",
      "_view_count": null,
      "_view_module": "@jupyter-widgets/controls",
      "_view_module_version": "1.5.0",
      "_view_name": "HTMLView",
      "description": "",
      "description_tooltip": null,
      "layout": "IPY_MODEL_335ac4949e124300a2b8cae20c295b77",
      "placeholder": "​",
      "style": "IPY_MODEL_169cd3e30f034c09b1e3f7b1b5e1fd21",
      "value": " 1.51G/1.51G [00:31&lt;00:00, 54.4MB/s]"
     }
    },
    "705850cd156744969c5707439a3c20ec": {
     "model_module": "@jupyter-widgets/base",
     "model_module_version": "1.2.0",
     "model_name": "LayoutModel",
     "state": {
      "_model_module": "@jupyter-widgets/base",
      "_model_module_version": "1.2.0",
      "_model_name": "LayoutModel",
      "_view_count": null,
      "_view_module": "@jupyter-widgets/base",
      "_view_module_version": "1.2.0",
      "_view_name": "LayoutView",
      "align_content": null,
      "align_items": null,
      "align_self": null,
      "border": null,
      "bottom": null,
      "display": null,
      "flex": null,
      "flex_flow": null,
      "grid_area": null,
      "grid_auto_columns": null,
      "grid_auto_flow": null,
      "grid_auto_rows": null,
      "grid_column": null,
      "grid_gap": null,
      "grid_row": null,
      "grid_template_areas": null,
      "grid_template_columns": null,
      "grid_template_rows": null,
      "height": null,
      "justify_content": null,
      "justify_items": null,
      "left": null,
      "margin": null,
      "max_height": null,
      "max_width": null,
      "min_height": null,
      "min_width": null,
      "object_fit": null,
      "object_position": null,
      "order": null,
      "overflow": null,
      "overflow_x": null,
      "overflow_y": null,
      "padding": null,
      "right": null,
      "top": null,
      "visibility": null,
      "width": null
     }
    },
    "712d422c808943388af8f2246c77807b": {
     "model_module": "@jupyter-widgets/base",
     "model_module_version": "1.2.0",
     "model_name": "LayoutModel",
     "state": {
      "_model_module": "@jupyter-widgets/base",
      "_model_module_version": "1.2.0",
      "_model_name": "LayoutModel",
      "_view_count": null,
      "_view_module": "@jupyter-widgets/base",
      "_view_module_version": "1.2.0",
      "_view_name": "LayoutView",
      "align_content": null,
      "align_items": null,
      "align_self": null,
      "border": null,
      "bottom": null,
      "display": null,
      "flex": null,
      "flex_flow": null,
      "grid_area": null,
      "grid_auto_columns": null,
      "grid_auto_flow": null,
      "grid_auto_rows": null,
      "grid_column": null,
      "grid_gap": null,
      "grid_row": null,
      "grid_template_areas": null,
      "grid_template_columns": null,
      "grid_template_rows": null,
      "height": null,
      "justify_content": null,
      "justify_items": null,
      "left": null,
      "margin": null,
      "max_height": null,
      "max_width": null,
      "min_height": null,
      "min_width": null,
      "object_fit": null,
      "object_position": null,
      "order": null,
      "overflow": null,
      "overflow_x": null,
      "overflow_y": null,
      "padding": null,
      "right": null,
      "top": null,
      "visibility": null,
      "width": null
     }
    },
    "726f33d1147a4e2f81f664ad4081ee0f": {
     "model_module": "@jupyter-widgets/controls",
     "model_module_version": "1.5.0",
     "model_name": "HTMLModel",
     "state": {
      "_dom_classes": [],
      "_model_module": "@jupyter-widgets/controls",
      "_model_module_version": "1.5.0",
      "_model_name": "HTMLModel",
      "_view_count": null,
      "_view_module": "@jupyter-widgets/controls",
      "_view_module_version": "1.5.0",
      "_view_name": "HTMLView",
      "description": "",
      "description_tooltip": null,
      "layout": "IPY_MODEL_2f1bb81e262f4f768bacf4ea97c49ba0",
      "placeholder": "​",
      "style": "IPY_MODEL_b10dfe82009f428db22bb676c507d8ed",
      "value": "100%"
     }
    },
    "7271e6f3300f42fe80995be7338c1b27": {
     "model_module": "@jupyter-widgets/base",
     "model_module_version": "1.2.0",
     "model_name": "LayoutModel",
     "state": {
      "_model_module": "@jupyter-widgets/base",
      "_model_module_version": "1.2.0",
      "_model_name": "LayoutModel",
      "_view_count": null,
      "_view_module": "@jupyter-widgets/base",
      "_view_module_version": "1.2.0",
      "_view_name": "LayoutView",
      "align_content": null,
      "align_items": null,
      "align_self": null,
      "border": null,
      "bottom": null,
      "display": null,
      "flex": null,
      "flex_flow": null,
      "grid_area": null,
      "grid_auto_columns": null,
      "grid_auto_flow": null,
      "grid_auto_rows": null,
      "grid_column": null,
      "grid_gap": null,
      "grid_row": null,
      "grid_template_areas": null,
      "grid_template_columns": null,
      "grid_template_rows": null,
      "height": null,
      "justify_content": null,
      "justify_items": null,
      "left": null,
      "margin": null,
      "max_height": null,
      "max_width": null,
      "min_height": null,
      "min_width": null,
      "object_fit": null,
      "object_position": null,
      "order": null,
      "overflow": null,
      "overflow_x": null,
      "overflow_y": null,
      "padding": null,
      "right": null,
      "top": null,
      "visibility": null,
      "width": null
     }
    },
    "76f16492efd34d2f821bb4b466c26a16": {
     "model_module": "@jupyter-widgets/controls",
     "model_module_version": "1.5.0",
     "model_name": "HBoxModel",
     "state": {
      "_dom_classes": [],
      "_model_module": "@jupyter-widgets/controls",
      "_model_module_version": "1.5.0",
      "_model_name": "HBoxModel",
      "_view_count": null,
      "_view_module": "@jupyter-widgets/controls",
      "_view_module_version": "1.5.0",
      "_view_name": "HBoxView",
      "box_style": "",
      "children": [
       "IPY_MODEL_726f33d1147a4e2f81f664ad4081ee0f",
       "IPY_MODEL_dbbea91468704f779c0839f434a5adb0",
       "IPY_MODEL_c8332235343d4dfea41ee9fe3f7e58da"
      ],
      "layout": "IPY_MODEL_0de2495e24134a5392675dcb92a77361"
     }
    },
    "88430346adb740d09c8dd1ada85e67a6": {
     "model_module": "@jupyter-widgets/controls",
     "model_module_version": "1.5.0",
     "model_name": "DescriptionStyleModel",
     "state": {
      "_model_module": "@jupyter-widgets/controls",
      "_model_module_version": "1.5.0",
      "_model_name": "DescriptionStyleModel",
      "_view_count": null,
      "_view_module": "@jupyter-widgets/base",
      "_view_module_version": "1.2.0",
      "_view_name": "StyleView",
      "description_width": ""
     }
    },
    "898da8f41e344267a3757a4990a8b41a": {
     "model_module": "@jupyter-widgets/controls",
     "model_module_version": "1.5.0",
     "model_name": "HTMLModel",
     "state": {
      "_dom_classes": [],
      "_model_module": "@jupyter-widgets/controls",
      "_model_module_version": "1.5.0",
      "_model_name": "HTMLModel",
      "_view_count": null,
      "_view_module": "@jupyter-widgets/controls",
      "_view_module_version": "1.5.0",
      "_view_name": "HTMLView",
      "description": "",
      "description_tooltip": null,
      "layout": "IPY_MODEL_47036c5e11dd4253b6eb08052727ba3f",
      "placeholder": "​",
      "style": "IPY_MODEL_9b4e2656c2a24ac09e90c11a59be1c9a",
      "value": " 12/12 [00:05&lt;00:00,  2.22ba/s]"
     }
    },
    "992caeb0dadd4ccea1a342639fe91a0d": {
     "model_module": "@jupyter-widgets/controls",
     "model_module_version": "1.5.0",
     "model_name": "HBoxModel",
     "state": {
      "_dom_classes": [],
      "_model_module": "@jupyter-widgets/controls",
      "_model_module_version": "1.5.0",
      "_model_name": "HBoxModel",
      "_view_count": null,
      "_view_module": "@jupyter-widgets/controls",
      "_view_module_version": "1.5.0",
      "_view_name": "HBoxView",
      "box_style": "",
      "children": [
       "IPY_MODEL_ff7af05e306548e1a6348c89eb0e8213",
       "IPY_MODEL_a56015136ed44626a096dd14e9d85bfa",
       "IPY_MODEL_898da8f41e344267a3757a4990a8b41a"
      ],
      "layout": "IPY_MODEL_e045f28ce5684169a097abc0461d07f4"
     }
    },
    "9b4e2656c2a24ac09e90c11a59be1c9a": {
     "model_module": "@jupyter-widgets/controls",
     "model_module_version": "1.5.0",
     "model_name": "DescriptionStyleModel",
     "state": {
      "_model_module": "@jupyter-widgets/controls",
      "_model_module_version": "1.5.0",
      "_model_name": "DescriptionStyleModel",
      "_view_count": null,
      "_view_module": "@jupyter-widgets/base",
      "_view_module_version": "1.2.0",
      "_view_name": "StyleView",
      "description_width": ""
     }
    },
    "a56015136ed44626a096dd14e9d85bfa": {
     "model_module": "@jupyter-widgets/controls",
     "model_module_version": "1.5.0",
     "model_name": "FloatProgressModel",
     "state": {
      "_dom_classes": [],
      "_model_module": "@jupyter-widgets/controls",
      "_model_module_version": "1.5.0",
      "_model_name": "FloatProgressModel",
      "_view_count": null,
      "_view_module": "@jupyter-widgets/controls",
      "_view_module_version": "1.5.0",
      "_view_name": "ProgressView",
      "bar_style": "success",
      "description": "",
      "description_tooltip": null,
      "layout": "IPY_MODEL_23a7f213ffaa45f1b9ef899d068cd678",
      "max": 12,
      "min": 0,
      "orientation": "horizontal",
      "style": "IPY_MODEL_b5c09026197549ea898733b1cc322bc7",
      "value": 12
     }
    },
    "b10dfe82009f428db22bb676c507d8ed": {
     "model_module": "@jupyter-widgets/controls",
     "model_module_version": "1.5.0",
     "model_name": "DescriptionStyleModel",
     "state": {
      "_model_module": "@jupyter-widgets/controls",
      "_model_module_version": "1.5.0",
      "_model_name": "DescriptionStyleModel",
      "_view_count": null,
      "_view_module": "@jupyter-widgets/base",
      "_view_module_version": "1.2.0",
      "_view_name": "StyleView",
      "description_width": ""
     }
    },
    "b29550b9a37445ecae37f8227e6a213f": {
     "model_module": "@jupyter-widgets/base",
     "model_module_version": "1.2.0",
     "model_name": "LayoutModel",
     "state": {
      "_model_module": "@jupyter-widgets/base",
      "_model_module_version": "1.2.0",
      "_model_name": "LayoutModel",
      "_view_count": null,
      "_view_module": "@jupyter-widgets/base",
      "_view_module_version": "1.2.0",
      "_view_name": "LayoutView",
      "align_content": null,
      "align_items": null,
      "align_self": null,
      "border": null,
      "bottom": null,
      "display": null,
      "flex": null,
      "flex_flow": null,
      "grid_area": null,
      "grid_auto_columns": null,
      "grid_auto_flow": null,
      "grid_auto_rows": null,
      "grid_column": null,
      "grid_gap": null,
      "grid_row": null,
      "grid_template_areas": null,
      "grid_template_columns": null,
      "grid_template_rows": null,
      "height": null,
      "justify_content": null,
      "justify_items": null,
      "left": null,
      "margin": null,
      "max_height": null,
      "max_width": null,
      "min_height": null,
      "min_width": null,
      "object_fit": null,
      "object_position": null,
      "order": null,
      "overflow": null,
      "overflow_x": null,
      "overflow_y": null,
      "padding": null,
      "right": null,
      "top": null,
      "visibility": null,
      "width": null
     }
    },
    "b5c09026197549ea898733b1cc322bc7": {
     "model_module": "@jupyter-widgets/controls",
     "model_module_version": "1.5.0",
     "model_name": "ProgressStyleModel",
     "state": {
      "_model_module": "@jupyter-widgets/controls",
      "_model_module_version": "1.5.0",
      "_model_name": "ProgressStyleModel",
      "_view_count": null,
      "_view_module": "@jupyter-widgets/base",
      "_view_module_version": "1.2.0",
      "_view_name": "StyleView",
      "bar_color": null,
      "description_width": ""
     }
    },
    "c1584b02d0e6487182370675fb2c8078": {
     "model_module": "@jupyter-widgets/controls",
     "model_module_version": "1.5.0",
     "model_name": "HBoxModel",
     "state": {
      "_dom_classes": [],
      "_model_module": "@jupyter-widgets/controls",
      "_model_module_version": "1.5.0",
      "_model_name": "HBoxModel",
      "_view_count": null,
      "_view_module": "@jupyter-widgets/controls",
      "_view_module_version": "1.5.0",
      "_view_name": "HBoxView",
      "box_style": "",
      "children": [
       "IPY_MODEL_10834f4fa33e49a79fcda397e15bd13a",
       "IPY_MODEL_676205abebce4d0eb1b61cd5c51c71cd",
       "IPY_MODEL_6dbe40b51f814b7d8b26b06c619d9632"
      ],
      "layout": "IPY_MODEL_705850cd156744969c5707439a3c20ec"
     }
    },
    "c8332235343d4dfea41ee9fe3f7e58da": {
     "model_module": "@jupyter-widgets/controls",
     "model_module_version": "1.5.0",
     "model_name": "HTMLModel",
     "state": {
      "_dom_classes": [],
      "_model_module": "@jupyter-widgets/controls",
      "_model_module_version": "1.5.0",
      "_model_name": "HTMLModel",
      "_view_count": null,
      "_view_module": "@jupyter-widgets/controls",
      "_view_module_version": "1.5.0",
      "_view_name": "HTMLView",
      "description": "",
      "description_tooltip": null,
      "layout": "IPY_MODEL_046e804fac74437ba8970513798a5307",
      "placeholder": "​",
      "style": "IPY_MODEL_1c05a230a9034f34981b1da0d699fec1",
      "value": " 10/10 [00:04&lt;00:00,  2.60ba/s]"
     }
    },
    "dbbea91468704f779c0839f434a5adb0": {
     "model_module": "@jupyter-widgets/controls",
     "model_module_version": "1.5.0",
     "model_name": "FloatProgressModel",
     "state": {
      "_dom_classes": [],
      "_model_module": "@jupyter-widgets/controls",
      "_model_module_version": "1.5.0",
      "_model_name": "FloatProgressModel",
      "_view_count": null,
      "_view_module": "@jupyter-widgets/controls",
      "_view_module_version": "1.5.0",
      "_view_name": "ProgressView",
      "bar_style": "success",
      "description": "",
      "description_tooltip": null,
      "layout": "IPY_MODEL_f42715c37929436c9afe04f5e0ec9d3b",
      "max": 10,
      "min": 0,
      "orientation": "horizontal",
      "style": "IPY_MODEL_167efb0d40d44af7a7567164fc6bf9db",
      "value": 10
     }
    },
    "e045f28ce5684169a097abc0461d07f4": {
     "model_module": "@jupyter-widgets/base",
     "model_module_version": "1.2.0",
     "model_name": "LayoutModel",
     "state": {
      "_model_module": "@jupyter-widgets/base",
      "_model_module_version": "1.2.0",
      "_model_name": "LayoutModel",
      "_view_count": null,
      "_view_module": "@jupyter-widgets/base",
      "_view_module_version": "1.2.0",
      "_view_name": "LayoutView",
      "align_content": null,
      "align_items": null,
      "align_self": null,
      "border": null,
      "bottom": null,
      "display": null,
      "flex": null,
      "flex_flow": null,
      "grid_area": null,
      "grid_auto_columns": null,
      "grid_auto_flow": null,
      "grid_auto_rows": null,
      "grid_column": null,
      "grid_gap": null,
      "grid_row": null,
      "grid_template_areas": null,
      "grid_template_columns": null,
      "grid_template_rows": null,
      "height": null,
      "justify_content": null,
      "justify_items": null,
      "left": null,
      "margin": null,
      "max_height": null,
      "max_width": null,
      "min_height": null,
      "min_width": null,
      "object_fit": null,
      "object_position": null,
      "order": null,
      "overflow": null,
      "overflow_x": null,
      "overflow_y": null,
      "padding": null,
      "right": null,
      "top": null,
      "visibility": null,
      "width": null
     }
    },
    "f322a4d03986457d9ad41f3e5648d930": {
     "model_module": "@jupyter-widgets/controls",
     "model_module_version": "1.5.0",
     "model_name": "DescriptionStyleModel",
     "state": {
      "_model_module": "@jupyter-widgets/controls",
      "_model_module_version": "1.5.0",
      "_model_name": "DescriptionStyleModel",
      "_view_count": null,
      "_view_module": "@jupyter-widgets/base",
      "_view_module_version": "1.2.0",
      "_view_name": "StyleView",
      "description_width": ""
     }
    },
    "f42715c37929436c9afe04f5e0ec9d3b": {
     "model_module": "@jupyter-widgets/base",
     "model_module_version": "1.2.0",
     "model_name": "LayoutModel",
     "state": {
      "_model_module": "@jupyter-widgets/base",
      "_model_module_version": "1.2.0",
      "_model_name": "LayoutModel",
      "_view_count": null,
      "_view_module": "@jupyter-widgets/base",
      "_view_module_version": "1.2.0",
      "_view_name": "LayoutView",
      "align_content": null,
      "align_items": null,
      "align_self": null,
      "border": null,
      "bottom": null,
      "display": null,
      "flex": null,
      "flex_flow": null,
      "grid_area": null,
      "grid_auto_columns": null,
      "grid_auto_flow": null,
      "grid_auto_rows": null,
      "grid_column": null,
      "grid_gap": null,
      "grid_row": null,
      "grid_template_areas": null,
      "grid_template_columns": null,
      "grid_template_rows": null,
      "height": null,
      "justify_content": null,
      "justify_items": null,
      "left": null,
      "margin": null,
      "max_height": null,
      "max_width": null,
      "min_height": null,
      "min_width": null,
      "object_fit": null,
      "object_position": null,
      "order": null,
      "overflow": null,
      "overflow_x": null,
      "overflow_y": null,
      "padding": null,
      "right": null,
      "top": null,
      "visibility": null,
      "width": null
     }
    },
    "ff7af05e306548e1a6348c89eb0e8213": {
     "model_module": "@jupyter-widgets/controls",
     "model_module_version": "1.5.0",
     "model_name": "HTMLModel",
     "state": {
      "_dom_classes": [],
      "_model_module": "@jupyter-widgets/controls",
      "_model_module_version": "1.5.0",
      "_model_name": "HTMLModel",
      "_view_count": null,
      "_view_module": "@jupyter-widgets/controls",
      "_view_module_version": "1.5.0",
      "_view_name": "HTMLView",
      "description": "",
      "description_tooltip": null,
      "layout": "IPY_MODEL_b29550b9a37445ecae37f8227e6a213f",
      "placeholder": "​",
      "style": "IPY_MODEL_88430346adb740d09c8dd1ada85e67a6",
      "value": "100%"
     }
    }
   }
  }
 },
 "nbformat": 4,
 "nbformat_minor": 0
}
