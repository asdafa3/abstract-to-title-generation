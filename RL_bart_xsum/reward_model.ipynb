{
 "cells": [
  {
   "cell_type": "code",
   "execution_count": null,
   "metadata": {
    "colab": {
     "base_uri": "https://localhost:8080/"
    },
    "id": "HC2yA5zMntvh",
    "outputId": "70326951-b564-4653-ff13-8603eeef106d"
   },
   "outputs": [],
   "source": [
    "import sys\n",
    "\n",
    "# we have to change the config file to make that work or put in the same dir...\n",
    "from google.colab import drive\n",
    "drive.mount('/content/drive/')"
   ]
  },
  {
   "cell_type": "code",
   "execution_count": null,
   "metadata": {
    "colab": {
     "base_uri": "https://localhost:8080/"
    },
    "id": "BFe4TOTdmPGF",
    "outputId": "17cfed6f-88b9-4cce-831a-1277efb07499"
   },
   "outputs": [],
   "source": [
    "sys.path.append(\"/content/drive/MyDrive/DL4NLP/abstract-to-title-generation/\")\n",
    "print(sys.path)\n",
    "from config import *"
   ]
  },
  {
   "cell_type": "code",
   "execution_count": null,
   "metadata": {
    "colab": {
     "base_uri": "https://localhost:8080/"
    },
    "id": "YlUQpXcYEAO_",
    "outputId": "2ba71171-2eae-4656-c084-50604f1607de"
   },
   "outputs": [],
   "source": [
    "!pip install tensorboardx"
   ]
  },
  {
   "cell_type": "code",
   "execution_count": null,
   "metadata": {
    "colab": {
     "base_uri": "https://localhost:8080/"
    },
    "id": "gv0XsukV0Xs8",
    "outputId": "604a6919-a1d2-4a14-9f53-985f635badcd"
   },
   "outputs": [],
   "source": [
    "!pip install ray torch torchvision"
   ]
  },
  {
   "cell_type": "code",
   "execution_count": null,
   "metadata": {
    "colab": {
     "base_uri": "https://localhost:8080/"
    },
    "id": "oCJ5jQFfmPGG",
    "outputId": "cf253901-16e6-4957-842f-ca8d61f1ba62"
   },
   "outputs": [],
   "source": [
    "!pip install -r \"{PROJECT_ROOT}/requirements.txt\""
   ]
  },
  {
   "cell_type": "code",
   "execution_count": null,
   "metadata": {
    "colab": {
     "base_uri": "https://localhost:8080/",
     "height": 596
    },
    "id": "bkwsMLkImPGH",
    "outputId": "d2eab571-1507-4ee3-e83d-8f6d323b1b02"
   },
   "outputs": [],
   "source": [
    "!pip uninstall matplotlib\n",
    "!pip install matplotlib"
   ]
  },
  {
   "cell_type": "code",
   "execution_count": null,
   "metadata": {
    "colab": {
     "base_uri": "https://localhost:8080/"
    },
    "id": "N5sT_jrHpv4I",
    "outputId": "32b4ffa0-c9b9-4b09-b411-4a1bd0f2ad8c"
   },
   "outputs": [],
   "source": [
    "!dvc pull"
   ]
  },
  {
   "cell_type": "code",
   "execution_count": null,
   "metadata": {
    "id": "omBWH4Fvvrhs"
   },
   "outputs": [],
   "source": [
    "from pathlib import Path"
   ]
  },
  {
   "cell_type": "code",
   "execution_count": null,
   "metadata": {
    "id": "h54mCfjgmPGI"
   },
   "outputs": [],
   "source": [
    "import pandas as pd\n",
    "import numpy as np\n",
    "import torch\n",
    "import datasets\n",
    "from torch.utils.data import Dataset, DataLoader\n",
    "from datasets import Dataset\n",
    "from tqdm import trange \n",
    "from transformers import AutoConfig, AutoTokenizer\n",
    "import torch.nn as nn\n",
    "from torch import optim\n",
    "from transformers import BertModel,BertPreTrainedModel\n",
    "import torch.nn as nn\n",
    "from scipy import stats\n",
    "import os\n",
    "from torchvision import datasets, transforms\n",
    "from ray import tune\n",
    "from ray.tune.schedulers import ASHAScheduler\n",
    "import torch.nn.functional as F"
   ]
  },
  {
   "cell_type": "code",
   "execution_count": null,
   "metadata": {
    "id": "c19NM420mPGI"
   },
   "outputs": [],
   "source": [
    "#title map for annotated sample-selection\n",
    "map80 = [[3, 2, 4, 6, 0, 5],\n",
    " [1, 5, 6, 3, 0, 4],\n",
    " [3, 2, 6, 1, 0, 4],\n",
    " [2, 1, 6, 5, 4, 0],\n",
    " [0, 3, 6, 5, 2, 4],\n",
    " [4, 3, 1, 2, 0, 6],\n",
    " [6, 1, 0, 4, 5, 3],\n",
    " [6, 0, 5, 1, 3, 2],\n",
    " [0, 3, 4, 1, 2, 5],\n",
    " [0, 3, 2, 6, 5, 4],\n",
    " [4, 3, 0, 5, 1, 6],\n",
    " [0, 1, 4, 6, 5, 2],\n",
    " [4, 0, 5, 1, 2, 6],\n",
    " [6, 2, 5, 0, 3, 1],\n",
    " [0, 1, 6, 4, 2, 5],\n",
    " [4, 6, 0, 3, 1, 5],\n",
    " [3, 1, 5, 4, 0, 2],\n",
    " [3, 5, 0, 2, 1, 6],\n",
    " [0, 6, 1, 2, 4, 3],\n",
    " [2, 4, 5, 1, 0, 6],\n",
    " [5, 3, 1, 2, 0, 4],\n",
    " [3, 6, 2, 4, 5, 0],\n",
    " [0, 5, 6, 3, 1, 2],\n",
    " [0, 3, 5, 6, 1, 4],\n",
    " [0, 4, 2, 5, 3, 1],\n",
    " [2, 3, 4, 0, 5, 1],\n",
    " [1, 2, 4, 0, 5, 6],\n",
    " [3, 5, 4, 1, 6, 0],\n",
    " [4, 6, 0, 1, 5, 2],\n",
    " [5, 0, 3, 1, 4, 6],\n",
    " [3, 6, 2, 5, 4, 0],\n",
    " [2, 3, 6, 5, 0, 4],\n",
    " [4, 0, 6, 3, 5, 1],\n",
    " [0, 2, 3, 5, 1, 6],\n",
    " [2, 1, 5, 0, 6, 3],\n",
    " [0, 6, 5, 1, 4, 2],\n",
    " [4, 5, 0, 2, 6, 1],\n",
    " [4, 2, 5, 6, 3, 0],\n",
    " [5, 3, 2, 4, 0, 1],\n",
    " [3, 5, 4, 2, 6, 0],\n",
    " [1, 2, 4, 3, 5, 0],\n",
    " [2, 3, 6, 1, 4, 0],\n",
    " [6, 3, 4, 0, 1, 2],\n",
    " [4, 0, 5, 1, 2, 3],\n",
    " [3, 4, 1, 0, 2, 6],\n",
    " [4, 0, 1, 3, 6, 2],\n",
    " [0, 5, 4, 6, 2, 3],\n",
    " [0, 1, 2, 6, 5, 3],\n",
    " [5, 3, 0, 4, 1, 6],\n",
    " [5, 4, 1, 0, 2, 6],\n",
    " [6, 4, 1, 5, 3, 0],\n",
    " [4, 0, 5, 3, 2, 6],\n",
    " [4, 0, 1, 5, 6, 2],\n",
    " [6, 0, 4, 5, 3, 2],\n",
    " [6, 0, 2, 1, 4, 3],\n",
    " [3, 2, 4, 1, 0, 5],\n",
    " [4, 2, 0, 5, 1, 3],\n",
    " [0, 2, 6, 3, 5, 4],\n",
    " [4, 1, 6, 0, 2, 5],\n",
    " [6, 4, 2, 1, 3, 0],\n",
    " [2, 5, 3, 4, 0, 1],\n",
    " [6, 4, 1, 0, 3, 5],\n",
    " [0, 2, 6, 1, 4, 5],\n",
    " [6, 5, 4, 3, 0, 2],\n",
    " [3, 2, 4, 6, 5, 0],\n",
    " [2, 1, 4, 3, 0, 5],\n",
    " [1, 6, 2, 3, 0, 5],\n",
    " [2, 5, 0, 6, 4, 3],\n",
    " [3, 2, 0, 4, 1, 6],\n",
    " [0, 3, 2, 4, 6, 1],\n",
    " [0, 5, 2, 3, 1, 4],\n",
    " [6, 4, 0, 2, 5, 1],\n",
    " [6, 0, 3, 5, 1, 4],\n",
    " [0, 5, 3, 4, 2, 6],\n",
    " [5, 3, 2, 0, 4, 1],\n",
    " [1, 4, 3, 5, 0, 6],\n",
    " [6, 2, 5, 3, 0, 4],\n",
    " [0, 5, 3, 6, 2, 1],\n",
    " [2, 0, 4, 6, 5, 1],\n",
    " [0, 4, 2, 1, 3, 5]]\n",
    "\n",
    "selected_index = [153, 154, 156, 159, 161, 164, 165, 167, 168, 172, 174 ,175, 176, 177, 180, 185, 186, 189, 191, 197, 206, 207, 208, 211, 216, 218, 221, 223, 225, 227, 228, 238, 239, 241, 243, 244, 248, 250, 259, 260, 262, 269, 270, 271 ,275, 287, 288, 291, 294, 299]\n",
    "map50= [[1, 0, 3, 4, 6, 5],\n",
    " [2, 1, 3, 0, 4, 6],\n",
    " [2, 3, 4, 1, 6, 0],\n",
    " [1, 0, 6, 5, 2, 3],\n",
    " [0, 1, 5, 3, 4, 6],\n",
    " [3, 2, 1, 5, 0, 4],\n",
    " [1, 0, 6, 5, 4, 2],\n",
    " [0, 4, 2, 6, 1, 3],\n",
    " [0, 3, 6, 1, 2, 5],\n",
    " [6, 2, 1, 4, 0, 3],\n",
    " [5, 0, 4, 2, 6, 3],\n",
    " [1, 0, 4, 3, 5, 2],\n",
    " [4, 0, 5, 6, 2, 3],\n",
    " [6, 1, 0, 4, 3, 5],\n",
    " [5, 6, 0, 3, 1, 2],\n",
    " [2, 5, 3, 4, 0, 6],\n",
    " [0, 2, 6, 5, 4, 1],\n",
    " [0, 3, 2, 1, 4, 6],\n",
    " [2, 5, 1, 6, 0, 4],\n",
    " [2, 5, 3, 1, 4, 0],\n",
    " [3, 4, 1, 6, 2, 0],\n",
    " [6, 3, 2, 1, 0, 5],\n",
    " [0, 6, 5, 1, 2, 4],\n",
    " [0, 6, 1, 3, 5, 4],\n",
    " [3, 2, 5, 1, 4, 0],\n",
    " [3, 4, 0, 5, 1, 6],\n",
    " [2, 5, 4, 0, 6, 1],\n",
    " [4, 2, 1, 6, 0, 3],\n",
    " [2, 4, 5, 6, 0, 3],\n",
    " [0, 5, 6, 2, 3, 1],\n",
    " [0, 5, 4, 3, 1, 2],\n",
    " [4, 1, 6, 5, 2, 0],\n",
    " [5, 3, 1, 0, 2, 6],\n",
    " [1, 5, 2, 4, 3, 0],\n",
    " [2, 1, 0, 3, 4, 5],\n",
    " [2, 0, 4, 5, 6, 3],\n",
    " [2, 5, 4, 1, 6, 0],\n",
    " [0, 5, 2, 1, 6, 4],\n",
    " [0, 5, 2, 4, 3, 1],\n",
    " [5, 2, 6, 1, 0, 3],\n",
    " [0, 2, 3, 6, 4, 5],\n",
    " [4, 5, 6, 2, 3, 0],\n",
    " [6, 2, 5, 4, 1, 0],\n",
    " [2, 6, 0, 1, 3, 5],\n",
    " [0, 1, 4, 5, 6, 2],\n",
    " [5, 1, 4, 6, 0, 3],\n",
    " [6, 0, 5, 4, 2, 1],\n",
    " [6, 4, 1, 0, 3, 2],\n",
    " [5, 0, 2, 3, 4, 6],\n",
    " [2, 3, 0, 1, 6, 5]]\n",
    "\n",
    "map_model = [['bart_xsum', 'bart_cnn', 't5', 'pegasus_xsum', 'original', 'gpt2'],\n",
    " ['bart_base', 'gpt2', 'pegasus_xsum', 'bart_xsum', 'original', 't5'],\n",
    " ['bart_xsum', 'bart_cnn', 'pegasus_xsum', 'bart_base', 'original', 't5'],\n",
    " ['bart_cnn', 'bart_base', 'pegasus_xsum', 'gpt2', 't5', 'original'],\n",
    " ['original', 'bart_xsum', 'pegasus_xsum', 'gpt2', 'bart_cnn', 't5'],\n",
    " ['t5', 'bart_xsum', 'bart_base', 'bart_cnn', 'original', 'pegasus_xsum'],\n",
    " ['pegasus_xsum', 'bart_base', 'original', 't5', 'gpt2', 'bart_xsum'],\n",
    " ['pegasus_xsum', 'original', 'gpt2', 'bart_base', 'bart_xsum', 'bart_cnn'],\n",
    " ['original', 'bart_xsum', 't5', 'bart_base', 'bart_cnn', 'gpt2'],\n",
    " ['original', 'bart_xsum', 'bart_cnn', 'pegasus_xsum', 'gpt2', 't5'],\n",
    " ['t5', 'bart_xsum', 'original', 'gpt2', 'bart_base', 'pegasus_xsum'],\n",
    " ['original', 'bart_base', 't5', 'pegasus_xsum', 'gpt2', 'bart_cnn'],\n",
    " ['t5', 'original', 'gpt2', 'bart_base', 'bart_cnn', 'pegasus_xsum'],\n",
    " ['pegasus_xsum', 'bart_cnn', 'gpt2', 'original', 'bart_xsum', 'bart_base'],\n",
    " ['original', 'bart_base', 'pegasus_xsum', 't5', 'bart_cnn', 'gpt2'],\n",
    " ['t5', 'pegasus_xsum', 'original', 'bart_xsum', 'bart_base', 'gpt2'],\n",
    " ['bart_xsum', 'bart_base', 'gpt2', 't5', 'original', 'bart_cnn'],\n",
    " ['bart_xsum', 'gpt2', 'original', 'bart_cnn', 'bart_base', 'pegasus_xsum'],\n",
    " ['original', 'pegasus_xsum', 'bart_base', 'bart_cnn', 't5', 'bart_xsum'],\n",
    " ['bart_cnn', 't5', 'gpt2', 'bart_base', 'original', 'pegasus_xsum'],\n",
    " ['gpt2', 'bart_xsum', 'bart_base', 'bart_cnn', 'original', 't5'],\n",
    " ['bart_xsum', 'pegasus_xsum', 'bart_cnn', 't5', 'gpt2', 'original'],\n",
    " ['original', 'gpt2', 'pegasus_xsum', 'bart_xsum', 'bart_base', 'bart_cnn'],\n",
    " ['original', 'bart_xsum', 'gpt2', 'pegasus_xsum', 'bart_base', 't5'],\n",
    " ['original', 't5', 'bart_cnn', 'gpt2', 'bart_xsum', 'bart_base'],\n",
    " ['bart_cnn', 'bart_xsum', 't5', 'original', 'gpt2', 'bart_base'],\n",
    " ['bart_base', 'bart_cnn', 't5', 'original', 'gpt2', 'pegasus_xsum'],\n",
    " ['bart_xsum', 'gpt2', 't5', 'bart_base', 'pegasus_xsum', 'original'],\n",
    " ['t5', 'pegasus_xsum', 'original', 'bart_base', 'gpt2', 'bart_cnn'],\n",
    " ['gpt2', 'original', 'bart_xsum', 'bart_base', 't5', 'pegasus_xsum'],\n",
    " ['bart_xsum', 'pegasus_xsum', 'bart_cnn', 'gpt2', 't5', 'original'],\n",
    " ['bart_cnn', 'bart_xsum', 'pegasus_xsum', 'gpt2', 'original', 't5'],\n",
    " ['t5', 'original', 'pegasus_xsum', 'bart_xsum', 'gpt2', 'bart_base'],\n",
    " ['original', 'bart_cnn', 'bart_xsum', 'gpt2', 'bart_base', 'pegasus_xsum'],\n",
    " ['bart_cnn', 'bart_base', 'gpt2', 'original', 'pegasus_xsum', 'bart_xsum'],\n",
    " ['original', 'pegasus_xsum', 'gpt2', 'bart_base', 't5', 'bart_cnn'],\n",
    " ['t5', 'gpt2', 'original', 'bart_cnn', 'pegasus_xsum', 'bart_base'],\n",
    " ['t5', 'bart_cnn', 'gpt2', 'pegasus_xsum', 'bart_xsum', 'original'],\n",
    " ['gpt2', 'bart_xsum', 'bart_cnn', 't5', 'original', 'bart_base'],\n",
    " ['bart_xsum', 'gpt2', 't5', 'bart_cnn', 'pegasus_xsum', 'original'],\n",
    " ['bart_base', 'bart_cnn', 't5', 'bart_xsum', 'gpt2', 'original'],\n",
    " ['bart_cnn', 'bart_xsum', 'pegasus_xsum', 'bart_base', 't5', 'original'],\n",
    " ['pegasus_xsum', 'bart_xsum', 't5', 'original', 'bart_base', 'bart_cnn'],\n",
    " ['t5', 'original', 'gpt2', 'bart_base', 'bart_cnn', 'bart_xsum'],\n",
    " ['bart_xsum', 't5', 'bart_base', 'original', 'bart_cnn', 'pegasus_xsum'],\n",
    " ['t5', 'original', 'bart_base', 'bart_xsum', 'pegasus_xsum', 'bart_cnn'],\n",
    " ['original', 'gpt2', 't5', 'pegasus_xsum', 'bart_cnn', 'bart_xsum'],\n",
    " ['original', 'bart_base', 'bart_cnn', 'pegasus_xsum', 'gpt2', 'bart_xsum'],\n",
    " ['gpt2', 'bart_xsum', 'original', 't5', 'bart_base', 'pegasus_xsum'],\n",
    " ['gpt2', 't5', 'bart_base', 'original', 'bart_cnn', 'pegasus_xsum'],\n",
    " ['bart_base', 'original', 'bart_xsum', 't5', 'pegasus_xsum', 'gpt2'],\n",
    " ['bart_cnn', 'bart_base', 'bart_xsum', 'original', 't5', 'pegasus_xsum'],\n",
    " ['bart_cnn', 'bart_xsum', 't5', 'bart_base', 'pegasus_xsum', 'original'],\n",
    " ['bart_base', 'original', 'pegasus_xsum', 'gpt2', 'bart_cnn', 'bart_xsum'],\n",
    " ['original', 'bart_base', 'gpt2', 'bart_xsum', 't5', 'pegasus_xsum'],\n",
    " ['bart_xsum', 'bart_cnn', 'bart_base', 'gpt2', 'original', 't5'],\n",
    " ['bart_base', 'original', 'pegasus_xsum', 'gpt2', 't5', 'bart_cnn'],\n",
    " ['original', 't5', 'bart_cnn', 'pegasus_xsum', 'bart_base', 'bart_xsum'],\n",
    " ['original', 'bart_xsum', 'pegasus_xsum', 'bart_base', 'bart_cnn', 'gpt2'],\n",
    " ['pegasus_xsum', 'bart_cnn', 'bart_base', 't5', 'original', 'bart_xsum'],\n",
    " ['gpt2', 'original', 't5', 'bart_cnn', 'pegasus_xsum', 'bart_xsum'],\n",
    " ['bart_base', 'original', 't5', 'bart_xsum', 'gpt2', 'bart_cnn'],\n",
    " ['t5', 'original', 'gpt2', 'pegasus_xsum', 'bart_cnn', 'bart_xsum'],\n",
    " ['pegasus_xsum', 'bart_base', 'original', 't5', 'bart_xsum', 'gpt2'],\n",
    " ['gpt2', 'pegasus_xsum', 'original', 'bart_xsum', 'bart_base', 'bart_cnn'],\n",
    " ['bart_cnn', 'gpt2', 'bart_xsum', 't5', 'original', 'pegasus_xsum'],\n",
    " ['original', 'bart_cnn', 'pegasus_xsum', 'gpt2', 't5', 'bart_base'],\n",
    " ['original', 'bart_xsum', 'bart_cnn', 'bart_base', 't5', 'pegasus_xsum'],\n",
    " ['bart_cnn', 'gpt2', 'bart_base', 'pegasus_xsum', 'original', 't5'],\n",
    " ['bart_cnn', 'gpt2', 'bart_xsum', 'bart_base', 't5', 'original'],\n",
    " ['bart_xsum', 't5', 'bart_base', 'pegasus_xsum', 'bart_cnn', 'original'],\n",
    " ['pegasus_xsum', 'bart_xsum', 'bart_cnn', 'bart_base', 'original', 'gpt2'],\n",
    " ['original', 'pegasus_xsum', 'gpt2', 'bart_base', 'bart_cnn', 't5'],\n",
    " ['original', 'pegasus_xsum', 'bart_base', 'bart_xsum', 'gpt2', 't5'],\n",
    " ['bart_xsum', 'bart_cnn', 'gpt2', 'bart_base', 't5', 'original'],\n",
    " ['bart_xsum', 't5', 'original', 'gpt2', 'bart_base', 'pegasus_xsum'],\n",
    " ['bart_cnn', 'gpt2', 't5', 'original', 'pegasus_xsum', 'bart_base'],\n",
    " ['t5', 'bart_cnn', 'bart_base', 'pegasus_xsum', 'original', 'bart_xsum'],\n",
    " ['bart_cnn', 't5', 'gpt2', 'pegasus_xsum', 'original', 'bart_xsum'],\n",
    " ['original', 'gpt2', 'pegasus_xsum', 'bart_cnn', 'bart_xsum', 'bart_base'],\n",
    " ['original', 'gpt2', 't5', 'bart_xsum', 'bart_base', 'bart_cnn'],\n",
    " ['t5', 'bart_base', 'pegasus_xsum', 'gpt2', 'bart_cnn', 'original'],\n",
    " ['gpt2', 'bart_xsum', 'bart_base', 'original', 'bart_cnn', 'pegasus_xsum'],\n",
    " ['bart_base', 'gpt2', 'bart_cnn', 't5', 'bart_xsum', 'original'],\n",
    " ['bart_cnn', 'bart_base', 'original', 'bart_xsum', 't5', 'gpt2'],\n",
    " ['bart_cnn', 'original', 't5', 'gpt2', 'pegasus_xsum', 'bart_xsum'],\n",
    " ['bart_cnn', 'gpt2', 't5', 'bart_base', 'pegasus_xsum', 'original'],\n",
    " ['original', 'gpt2', 'bart_cnn', 'bart_base', 'pegasus_xsum', 't5'],\n",
    " ['original', 'gpt2', 'bart_cnn', 't5', 'bart_xsum', 'bart_base'],\n",
    " ['gpt2', 'bart_cnn', 'pegasus_xsum', 'bart_base', 'original', 'bart_xsum'],\n",
    " ['original', 'bart_cnn', 'bart_xsum', 'pegasus_xsum', 't5', 'gpt2'],\n",
    " ['t5', 'gpt2', 'pegasus_xsum', 'bart_cnn', 'bart_xsum', 'original'],\n",
    " ['pegasus_xsum', 'bart_cnn', 'gpt2', 't5', 'bart_base', 'original'],\n",
    " ['bart_cnn', 'pegasus_xsum', 'original', 'bart_base', 'bart_xsum', 'gpt2'],\n",
    " ['original', 'bart_base', 't5', 'gpt2', 'pegasus_xsum', 'bart_cnn'],\n",
    " ['gpt2', 'bart_base', 't5', 'pegasus_xsum', 'original', 'bart_xsum'],\n",
    " ['pegasus_xsum', 'original', 'gpt2', 't5', 'bart_cnn', 'bart_base'],\n",
    " ['pegasus_xsum', 't5', 'bart_base', 'original', 'bart_xsum', 'bart_cnn'],\n",
    " ['gpt2', 'original', 'bart_cnn', 'bart_xsum', 't5', 'pegasus_xsum'],\n",
    " ['bart_cnn', 'bart_xsum', 'original', 'bart_base', 'pegasus_xsum', 'gpt2'],\n",
    " ['bart_base', 'original', 'bart_xsum', 't5', 'pegasus_xsum', 'gpt2'],\n",
    " ['bart_cnn', 'bart_base', 'bart_xsum', 'original', 't5', 'pegasus_xsum'],\n",
    " ['bart_cnn', 'bart_xsum', 't5', 'bart_base', 'pegasus_xsum', 'original'],\n",
    " ['bart_base', 'original', 'pegasus_xsum', 'gpt2', 'bart_cnn', 'bart_xsum'],\n",
    " ['original', 'bart_base', 'gpt2', 'bart_xsum', 't5', 'pegasus_xsum'],\n",
    " ['bart_xsum', 'bart_cnn', 'bart_base', 'gpt2', 'original', 't5'],\n",
    " ['bart_base', 'original', 'pegasus_xsum', 'gpt2', 't5', 'bart_cnn'],\n",
    " ['original', 't5', 'bart_cnn', 'pegasus_xsum', 'bart_base', 'bart_xsum'],\n",
    " ['original', 'bart_xsum', 'pegasus_xsum', 'bart_base', 'bart_cnn', 'gpt2'],\n",
    " ['pegasus_xsum', 'bart_cnn', 'bart_base', 't5', 'original', 'bart_xsum'],\n",
    " ['gpt2', 'original', 't5', 'bart_cnn', 'pegasus_xsum', 'bart_xsum'],\n",
    " ['bart_base', 'original', 't5', 'bart_xsum', 'gpt2', 'bart_cnn'],\n",
    " ['t5', 'original', 'gpt2', 'pegasus_xsum', 'bart_cnn', 'bart_xsum'],\n",
    " ['pegasus_xsum', 'bart_base', 'original', 't5', 'bart_xsum', 'gpt2'],\n",
    " ['gpt2', 'pegasus_xsum', 'original', 'bart_xsum', 'bart_base', 'bart_cnn'],\n",
    " ['bart_cnn', 'gpt2', 'bart_xsum', 't5', 'original', 'pegasus_xsum'],\n",
    " ['original', 'bart_cnn', 'pegasus_xsum', 'gpt2', 't5', 'bart_base'],\n",
    " ['original', 'bart_xsum', 'bart_cnn', 'bart_base', 't5', 'pegasus_xsum'],\n",
    " ['bart_cnn', 'gpt2', 'bart_base', 'pegasus_xsum', 'original', 't5'],\n",
    " ['bart_cnn', 'gpt2', 'bart_xsum', 'bart_base', 't5', 'original'],\n",
    " ['bart_xsum', 't5', 'bart_base', 'pegasus_xsum', 'bart_cnn', 'original'],\n",
    " ['pegasus_xsum', 'bart_xsum', 'bart_cnn', 'bart_base', 'original', 'gpt2'],\n",
    " ['original', 'pegasus_xsum', 'gpt2', 'bart_base', 'bart_cnn', 't5'],\n",
    " ['original', 'pegasus_xsum', 'bart_base', 'bart_xsum', 'gpt2', 't5'],\n",
    " ['bart_xsum', 'bart_cnn', 'gpt2', 'bart_base', 't5', 'original'],\n",
    " ['bart_xsum', 't5', 'original', 'gpt2', 'bart_base', 'pegasus_xsum'],\n",
    " ['bart_cnn', 'gpt2', 't5', 'original', 'pegasus_xsum', 'bart_base'],\n",
    " ['t5', 'bart_cnn', 'bart_base', 'pegasus_xsum', 'original', 'bart_xsum'],\n",
    " ['bart_cnn', 't5', 'gpt2', 'pegasus_xsum', 'original', 'bart_xsum'],\n",
    " ['original', 'gpt2', 'pegasus_xsum', 'bart_cnn', 'bart_xsum', 'bart_base'],\n",
    " ['original', 'gpt2', 't5', 'bart_xsum', 'bart_base', 'bart_cnn'],\n",
    " ['t5', 'bart_base', 'pegasus_xsum', 'gpt2', 'bart_cnn', 'original'],\n",
    " ['gpt2', 'bart_xsum', 'bart_base', 'original', 'bart_cnn', 'pegasus_xsum'],\n",
    " ['bart_base', 'gpt2', 'bart_cnn', 't5', 'bart_xsum', 'original'],\n",
    " ['bart_cnn', 'bart_base', 'original', 'bart_xsum', 't5', 'gpt2'],\n",
    " ['bart_cnn', 'original', 't5', 'gpt2', 'pegasus_xsum', 'bart_xsum'],\n",
    " ['bart_cnn', 'gpt2', 't5', 'bart_base', 'pegasus_xsum', 'original'],\n",
    " ['original', 'gpt2', 'bart_cnn', 'bart_base', 'pegasus_xsum', 't5'],\n",
    " ['original', 'gpt2', 'bart_cnn', 't5', 'bart_xsum', 'bart_base'],\n",
    " ['gpt2', 'bart_cnn', 'pegasus_xsum', 'bart_base', 'original', 'bart_xsum'],\n",
    " ['original', 'bart_cnn', 'bart_xsum', 'pegasus_xsum', 't5', 'gpt2'],\n",
    " ['t5', 'gpt2', 'pegasus_xsum', 'bart_cnn', 'bart_xsum', 'original'],\n",
    " ['pegasus_xsum', 'bart_cnn', 'gpt2', 't5', 'bart_base', 'original'],\n",
    " ['bart_cnn', 'pegasus_xsum', 'original', 'bart_base', 'bart_xsum', 'gpt2'],\n",
    " ['original', 'bart_base', 't5', 'gpt2', 'pegasus_xsum', 'bart_cnn'],\n",
    " ['gpt2', 'bart_base', 't5', 'pegasus_xsum', 'original', 'bart_xsum'],\n",
    " ['pegasus_xsum', 'original', 'gpt2', 't5', 'bart_cnn', 'bart_base'],\n",
    " ['pegasus_xsum', 't5', 'bart_base', 'original', 'bart_xsum', 'bart_cnn'],\n",
    " ['gpt2', 'original', 'bart_cnn', 'bart_xsum', 't5', 'pegasus_xsum'],\n",
    " ['bart_cnn', 'bart_xsum', 'original', 'bart_base', 'pegasus_xsum', 'gpt2']]\n",
    "\n",
    "\n",
    "def displaysmaples(samples):\n",
    "  i = 0\n",
    "  titles = samples.title.to_list()\n",
    "  abstract = samples.abstract.to_list()\n",
    "  bart_base = samples.bart_base.to_list()\n",
    "  bart_cnn = samples.bart_cnn.to_list()\n",
    "  bart_xsum = samples.bart_xsum.to_list()\n",
    "  t5_small = samples.t5_small.to_list()\n",
    "  gpt2 = samples.gpt2.to_list()\n",
    "  pegasus_xsum = samples.pegasus_xsum.to_list()\n",
    "\n",
    "  for t, a, t1, t2, t3, t4, t5, t6 in zip(titles, abstract, bart_base, bart_cnn, bart_xsum, t5_small, gpt2, pegasus_xsum):\n",
    "    print(\"original title: \", t)\n",
    "    print(\"abstract: \", a)\n",
    "    print(\"from bart_base: \")\n",
    "    gt1 = t1.split(\"<TITLE>\")[1:]\n",
    "    for gt in gt1:\n",
    "      print(gt)\n",
    "    print(\"\\n\")\n",
    "    print(\"from bart_cnn: \")\n",
    "    gt1 = t2.split(\"<TITLE>\")[1:]\n",
    "    for gt in gt1:\n",
    "      print(gt)\n",
    "    print(\"\\n\")\n",
    "    print(\"from bart_xsum: \")\n",
    "    gt1 = t3.split(\"<TITLE>\")[1:]\n",
    "    for gt in gt1:\n",
    "      print(gt)\n",
    "    print(\"\\n\")\n",
    "    print(\"from t5_small: \")\n",
    "    gt1 = t4.split(\"<TITLE>\")[1:]\n",
    "    for gt in gt1:\n",
    "      print(gt)\n",
    "    print(\"\\n\")\n",
    "    print(\"from gpt2: \")\n",
    "    gt1 = t5.split(\"<TITLE>\")[1:]\n",
    "    for gt in gt1:\n",
    "      print(gt)\n",
    "    print(\"\\n\")\n",
    "    print(\"from pegasus_xsum: \")\n",
    "    gt1 = t6.split(\"<TITLE>\")[1:]\n",
    "    for gt in gt1:\n",
    "      print(gt)\n",
    "    print(\"\\n\")\n",
    "    i = i + 1\n",
    "\n",
    "    if i >= 20:\n",
    "      break\n",
    "\n",
    "# index von Optionen der human evaluation, 20 - 99 samples und 100-150(von index 0 bis 49)\n",
    "# [4, 3, 5, 2, 0, 1] bedeutet \n",
    "#1.op aus t5_samall, \n",
    "#2.op aus bart_xsum,\n",
    "#3.op aus gpt2,\n",
    "#4.op aus bart_cnn,\n",
    "#5.op original,\n",
    "#6.op aus bart_base,\n",
    "\n",
    "def getindex():\n",
    "  result = []\n",
    "  for i in range(80):\n",
    "    col = np.arange(1,7)\n",
    "    np.random.shuffle(col)\n",
    "    col = col.tolist()[:-1]\n",
    "    col.append(0)\n",
    "    np.random.shuffle(col)\n",
    "    result.append(col)\n",
    "  return result\n",
    "\n",
    "\n",
    "def sampler(samples, map20, start, end):\n",
    "  i = start\n",
    "  titles = samples.title.to_list()[start: end]\n",
    "  abstract = samples.abstract.to_list()[start: end]\n",
    "  bart_base = samples.bart_base.to_list()[start: end]\n",
    "  bart_cnn = samples.bart_cnn.to_list()[start: end]\n",
    "  bart_xsum = samples.bart_xsum.to_list()[start: end]\n",
    "  t5_small = samples.t5_small.to_list()[start: end]\n",
    "  gpt2 = samples.gpt2.to_list()[start: end]\n",
    "  pegasus_xsum = samples.pegasus_xsum.to_list()[start: end]\n",
    "\n",
    "  tmap = []\n",
    "  for t, a, t1, t2, t3, t4, t5, t6 in zip(titles, abstract, bart_base, bart_cnn, bart_xsum, t5_small, gpt2, pegasus_xsum):\n",
    "    gt1 = t1.split(\"<TITLE>\")[1:][0]\n",
    "    gt2 = t2.split(\"<TITLE>\")[1:][0]\n",
    "    gt3 = t3.split(\"<TITLE>\")[1:][0]\n",
    "    gt4 = t4.split(\"<TITLE>\")[1:][0]\n",
    "    gt5 = t5.split(\"<TITLE>\")[1:][0]\n",
    "    gt6 = t6.split(\"<TITLE>\")[1:][0]\n",
    "    col = [t, gt1, gt2, gt3, gt4, gt5, gt6]\n",
    "    rcol = [col[map20[i][j]] for j in range(6)]\n",
    "    rcol.append(a)\n",
    "    tmap.append(rcol)\n",
    "    i = i + 1\n",
    "\n",
    "  return tmap\n",
    "def map2model(ls):\n",
    "  r = []\n",
    "  for i in ls:\n",
    "    if i == 0:\n",
    "      r.append(\"original\")\n",
    "    if i == 1:\n",
    "      r.append(\"bart_base\")\n",
    "    if i == 2:\n",
    "      r.append(\"bart_cnn\")\n",
    "    if i == 3:\n",
    "      r.append(\"bart_xsum\")\n",
    "    if i == 4:\n",
    "      r.append(\"t5\")\n",
    "    if i == 5:\n",
    "      r.append(\"gpt2\")\n",
    "    if i == 6:\n",
    "      r.append(\"pegasus_xsum\")\n",
    "  return r\n",
    "\n",
    "def map2index(ls):\n",
    "  r = []\n",
    "  for i in ls:\n",
    "    if i == \"original\":\n",
    "      r.append(0)\n",
    "    if i == \"bart_base\":\n",
    "      r.append(1)\n",
    "    if i == \"bart_cnn\":\n",
    "      r.append(2)\n",
    "    if i == \"bart_xsum\":\n",
    "      r.append(3)\n",
    "    if i == \"t5\":\n",
    "      r.append(4)\n",
    "    if i == \"gpt2\":\n",
    "      r.append(5)\n",
    "    if i == \"pegasus_xsum\":\n",
    "      r.append(6)\n",
    "  return r\n",
    "\n",
    "def map2modelAM(ls):\n",
    "  r = []\n",
    "  for i in ls:\n",
    "    if i == 0:\n",
    "      r.append(\"bart_base\")\n",
    "    if i == 1:\n",
    "      r.append(\"bart_cnn\")\n",
    "    if i == 2:\n",
    "      r.append(\"bart_xsum\")\n",
    "    if i == 3:\n",
    "      r.append(\"t5\")\n",
    "    if i == 4:\n",
    "      r.append(\"gpt2\")\n",
    "    if i == 5:\n",
    "      r.append(\"pegasus_xsum\")\n",
    "  return r\n",
    "\n",
    "# index von Optionen der human evaluation, 150 - 200 samples\n",
    "# [4, 3, 5, 2, 0, 1] bedeutet \n",
    "#1.op aus t5_samall, \n",
    "#2.op aus bart_xsum,\n",
    "#3.op aus gpt2,\n",
    "#4.op aus bart_cnn,\n",
    "#5.op original,\n",
    "#6.op aus bart_base,\n",
    "\n",
    "def getindex():\n",
    "  result = []\n",
    "  for i in range(50):\n",
    "    col = np.arange(1,7)\n",
    "    np.random.shuffle(col)\n",
    "    col = col.tolist()[:-1]\n",
    "    col.append(0)\n",
    "    np.random.shuffle(col)\n",
    "    result.append(col)\n",
    "  return result\n",
    "\n",
    "#map für Teinehmer\n",
    "\n",
    "def getTmap():\n",
    "  i = 0\n",
    "  b = False\n",
    "  map30 = []\n",
    "  counters = np.zeros(20).tolist()\n",
    "  while not b:\n",
    "    personMap = np.arange(20)\n",
    "    np.random.shuffle(personMap)\n",
    "    personMap = personMap[:10]\n",
    "    i0 = personMap[0]\n",
    "    i1 = personMap[1]\n",
    "\n",
    "    if (counters[i0] < 3) and (counters[i1] < 3):\n",
    "      counters[i0] = counters[i0] + 1\n",
    "      counters[i1] = counters[i1] + 1\n",
    "      map30.append(personMap)\n",
    "    tb = True\n",
    "    for t in counters:\n",
    "      tb = tb and (t == 3)\n",
    "    b = tb\n",
    "    if b == True:\n",
    "      print(\"terminiert at:\", counters)\n",
    "  return map30\n",
    "\n",
    "# Settings\n",
    "\n",
    "def setup_seed(seed):\n",
    "  torch.manual_seed(seed)\n",
    "  torch.cuda.manual_seed_all(seed)\n",
    "  np.random.seed(seed)\n",
    "  torch.backends.cudnn.deteministic = True\n",
    "\n",
    "MODEL_OUT_DIR = '/content/drive/MyDrive/Thesis/output/sciBert_Kaggle/'\n",
    "\n",
    "## Model Configurations\n",
    "p={\n",
    "    'max_len': 512,\n",
    "    'batch_size': 6,\n",
    "    'lr' : 4.0638e-05,\n",
    "    'epochs': 18,\n",
    "    'dropout': 0.5,\n",
    "    'num_threads' : 1,\n",
    "    'model_name' : 'allenai/scibert_scivocab_uncased',\n",
    "    #'model_name' : 'bert-base-uncased',\n",
    "    'do_train' : True,\n",
    "    'random_seed': 24\n",
    "}"
   ]
  },
  {
   "cell_type": "markdown",
   "metadata": {
    "id": "40U5V5_EmPGM"
   },
   "source": [
    "## Fine Tuning"
   ]
  },
  {
   "cell_type": "code",
   "execution_count": null,
   "metadata": {
    "id": "quP6K2sgmPGN"
   },
   "outputs": [],
   "source": [
    "class Excerpt_Dataset(Dataset):\n",
    "\n",
    "    def __init__(self, data, maxlen, tokenizer): \n",
    "        #Store the contents of the file in a pandas dataframe\n",
    "        self.df = data.reset_index()\n",
    "        #Initialize the tokenizer for the desired transformer model\n",
    "        self.tokenizer = tokenizer\n",
    "        #Maximum length of the tokens list to keep all the sequences of fixed size\n",
    "        self.maxlen = maxlen\n",
    "\n",
    "    def __len__(self):\n",
    "        return self.df.shape[0]\n",
    "\n",
    "    def __getitem__(self, index):    \n",
    "        #Select the sentence and label at the specified index in the data frame\n",
    "        excerpt = self.df.loc[index, 'excerpt']\n",
    "        try:\n",
    "            target = self.df.loc[index, 'target']\n",
    "        except:\n",
    "            target = 0.0\n",
    "        #identifier = self.df.loc[index, 'id']\n",
    "        #Preprocess the text to be suitable for the transformer\n",
    "        tokens = self.tokenizer.tokenize(excerpt) \n",
    "        tokens = ['[CLS]'] + tokens + ['[SEP]'] \n",
    "        if len(tokens) < self.maxlen:\n",
    "            tokens = tokens + ['[PAD]' for _ in range(self.maxlen - len(tokens))] \n",
    "        else:\n",
    "            tokens = tokens[:self.maxlen-1] + ['[SEP]'] \n",
    "        #Obtain the indices of the tokens in the BERT Vocabulary\n",
    "        input_ids = self.tokenizer.convert_tokens_to_ids(tokens) \n",
    "        input_ids = torch.tensor(input_ids) \n",
    "        #Obtain the attention mask i.e a tensor containing 1s for no padded tokens and 0s for padded ones\n",
    "        attention_mask = (input_ids != 0).long()\n",
    "        \n",
    "        target = torch.tensor([target], dtype=torch.float32)\n",
    "        \n",
    "        return input_ids, attention_mask, target\n",
    "\n",
    "# Init model\n",
    "\n",
    "class BertRegresser(BertPreTrainedModel):\n",
    "    def __init__(self, config):\n",
    "        super().__init__(config)\n",
    "        self.bert = BertModel(config)\n",
    "        #The output layer that takes the [CLS] representation and gives an output\n",
    "        self.regressor = nn.Sequential(\n",
    "            nn.Dropout(p['dropout']),\n",
    "            nn.Linear(768, 1))\n",
    "\n",
    "    def forward(self, input_ids, attention_mask):\n",
    "        #Feed the input to Bert model to obtain contextualized representations\n",
    "        outputs = self.bert(input_ids=input_ids, attention_mask=attention_mask)\n",
    "        #Obtain the representations of [CLS] heads\n",
    "        logits = outputs[1]\n",
    "        output = self.regressor(logits)\n",
    "        \n",
    "        return output\n",
    "\n",
    "# Train, eval function\n",
    "\n",
    "def evaluate(model, criterion, dataloader, device):\n",
    "    model.eval()\n",
    "    mean_acc, mean_loss, count = 0, 0, 0\n",
    "    preds = []\n",
    "    lst_label = []\n",
    "    with torch.no_grad():\n",
    "        for input_ids, attention_mask, target in (dataloader):\n",
    "            \n",
    "            input_ids, attention_mask, target = input_ids.to(device), attention_mask.to(device), target.to(device)\n",
    "            output = model(input_ids, attention_mask)\n",
    "            preds += output\n",
    "            lst_label += target\n",
    "            mean_loss += criterion(output, target.type_as(output)).item()\n",
    "            # mean_err += get_rmse(output, target)\n",
    "            count += 1\n",
    "        predss = np.array([x.cpu().data.numpy().tolist() for x in preds]).squeeze()\n",
    "        lst_labels = np.array([x.cpu().data.numpy().tolist() for x in lst_label]).squeeze()\n",
    "        corr = stats.spearmanr(predss, lst_labels)\n",
    "    return corr[0] #mean_loss/count\n",
    "\n",
    "def train(model, criterion, optimizer, train_loader, val_loader, epochs, device):\n",
    "    best_acc = 0\n",
    "    for epoch in trange(epochs, desc=\"Epoch\"):\n",
    "        model.train()\n",
    "        train_loss = 0\n",
    "        for i, (input_ids, attention_mask, target) in enumerate(iterable=train_loader):\n",
    "            optimizer.zero_grad()  \n",
    "            input_ids, attention_mask, target = input_ids.to(device), attention_mask.to(device), target.to(device)\n",
    "            \n",
    "            output = model(input_ids=input_ids, attention_mask=attention_mask)\n",
    "            loss = criterion(output, target.type_as(output))\n",
    "            loss.backward()\n",
    "            optimizer.step()\n",
    "            \n",
    "            train_loss += loss.item()\n",
    "        \n",
    "        print(f\"Training loss is {train_loss/len(train_loader)}\")\n",
    "        val_loss = evaluate(model=model, criterion=criterion, dataloader=val_loader, device=device)\n",
    "        print(\"Epoch {} complete! Correlations : {}\".format(epoch, val_loss))\n",
    "\n",
    "## Configuration loaded from AutoConfig \n",
    "aconfig = AutoConfig.from_pretrained(p['model_name'])\n",
    "## Tokenizer loaded from AutoTokenizer\n",
    "tokenizer = AutoTokenizer.from_pretrained(p['model_name'])"
   ]
  },
  {
   "cell_type": "code",
   "execution_count": null,
   "metadata": {
    "colab": {
     "base_uri": "https://localhost:8080/",
     "height": 54
    },
    "id": "ql_bZPAPmPGN",
    "outputId": "f68756ee-a462-4bd5-f0b5-3bf5c7e42cc1"
   },
   "outputs": [],
   "source": [
    "#freeze all layers except regression head\n",
    "\n",
    "\"\"\"unfreeze_layers = ['bert.pooler', 'regressor.1']\n",
    "for name, params in model.named_parameters():\n",
    "  params.requires_grad = False\n",
    "  for ele in unfreeze_layers:\n",
    "    if ele in name:\n",
    "      params.requires_grad = True\n",
    "      break\n",
    "\n",
    "for name, params in model.named_parameters():\n",
    "  if params.requires_grad:\n",
    "    print(name, params.size())\"\"\""
   ]
  },
  {
   "cell_type": "code",
   "execution_count": null,
   "metadata": {
    "colab": {
     "base_uri": "https://localhost:8080/",
     "height": 37
    },
    "id": "dxmLcOHJmPGO",
    "outputId": "123f5351-2587-446b-ea34-113a19ff0bf6"
   },
   "outputs": [],
   "source": [
    "\"\"\"for name, params in model.named_parameters():\n",
    "  if params.requires_grad:\n",
    "    print(name, params.size())\"\"\""
   ]
  },
  {
   "cell_type": "code",
   "execution_count": null,
   "metadata": {
    "id": "2iEaz3AZmPGO"
   },
   "outputs": [],
   "source": [
    "\"\"\"device = torch.device(\"cuda:0\" if torch.cuda.is_available() else \"cpu\")\n",
    "## Putting model to device\n",
    "model = model.to(device)\n",
    "## Takes as the input the logits of the positive class and computes the binary cross-entropy \n",
    "# criterion = nn.BCEWithLogitsLoss()\n",
    "criterion = nn.MSELoss()\n",
    "## Optimizer\n",
    "optimizer = optim.Adam(params=model.parameters(), lr=p['lr'])\"\"\""
   ]
  },
  {
   "cell_type": "markdown",
   "metadata": {
    "id": "XGUfoE_wmPGO"
   },
   "source": [
    "### Load data"
   ]
  },
  {
   "cell_type": "code",
   "execution_count": null,
   "metadata": {
    "colab": {
     "base_uri": "https://localhost:8080/",
     "height": 633
    },
    "id": "c3SdCJJmmPGO",
    "outputId": "2e7671b0-244a-4da6-e5e3-6982936a4bec"
   },
   "outputs": [],
   "source": [
    "text_map = pd.read_csv(f'{DATA_DIR}/annotated/Kopie von 140_annotations_pairs.csv', index_col=0)\n",
    "scores = pd.read_csv(f'{DATA_DIR}/annotated/Kopie von 140_humanannotation_withoutunannotated.csv', index_col=0)\n",
    "\n",
    "text_map"
   ]
  },
  {
   "cell_type": "code",
   "execution_count": null,
   "metadata": {
    "colab": {
     "base_uri": "https://localhost:8080/",
     "height": 633
    },
    "id": "bKx5C1-AzUyd",
    "outputId": "bf0ff3b5-ff64-41a3-88df-9c26eb51d8ab"
   },
   "outputs": [],
   "source": [
    "text_map.reset_index(drop=True, inplace=True)\n",
    "text_map"
   ]
  },
  {
   "cell_type": "code",
   "execution_count": null,
   "metadata": {
    "id": "AsEmSJ9HmPGP"
   },
   "outputs": [],
   "source": [
    "abstract_df =text_map[['abstract']]\n",
    "title_df = text_map[['title', 'bart_base', 'bart_cnn', 'bart_xsum', 't5_small', 'gpt2', 'pegasus_xsum']]\n",
    "abstract_np = abstract_df.to_numpy()\n",
    "scores_np = scores.to_numpy()\n",
    "title_np = title_df.to_numpy()\n",
    "idx_map = [map2index(row) for row in map_model[:140]]\n",
    "title_np_picked = np.array([np.take(row1, np.sort(row2)) for row1, row2 in zip(title_np, idx_map)])\n",
    "score_np_picked = np.array([np.take(row1, np.sort(row2)) for row1, row2 in zip(scores_np, idx_map)])"
   ]
  },
  {
   "cell_type": "code",
   "execution_count": null,
   "metadata": {
    "id": "Q2ADJUThmPGP"
   },
   "outputs": [],
   "source": [
    "pairs_np_picked = np.concatenate([abstract_np, title_np_picked,score_np_picked], axis=1)\n",
    "pairs_np_picked_shuffled = np.random.permutation(pairs_np_picked)"
   ]
  },
  {
   "cell_type": "code",
   "execution_count": null,
   "metadata": {
    "id": "q1UJizi8mPGP"
   },
   "outputs": [],
   "source": [
    "abstracs = pairs_np_picked_shuffled[:,:1]\n",
    "titles = pairs_np_picked_shuffled[:,1:7]\n",
    "scores = pairs_np_picked_shuffled[:,7:].astype(float)\n",
    "scores = np.around(scores, 4)"
   ]
  },
  {
   "cell_type": "code",
   "execution_count": null,
   "metadata": {
    "id": "WbdWX8JJmPGQ"
   },
   "outputs": [],
   "source": [
    "lst = []\n",
    "\n",
    "for ab, row1, row2 in zip(abstracs, titles, scores):\n",
    "  assert len(row1) == len(row2)\n",
    "  assert len(row1) == 6\n",
    "  for t, s in zip(row1, row2):\n",
    "    \n",
    "    if np.isnan(s):\n",
    "      print('found nan score')\n",
    "    if t=='':\n",
    "      print('found empty title')\n",
    "    lst.append([ab[0] + '[SEP]' + t, s])\n",
    "df = pd.DataFrame(np.array(lst))"
   ]
  },
  {
   "cell_type": "code",
   "execution_count": null,
   "metadata": {
    "id": "njZAmGA-mPGQ"
   },
   "outputs": [],
   "source": [
    "df.columns = ['excerpt', 'target']\n",
    "#dataframe = dataframe.sample(frac=1, random_state=42).reset_index(drop=True)"
   ]
  },
  {
   "cell_type": "code",
   "execution_count": null,
   "metadata": {
    "id": "ZjJ5ju-MmPGQ"
   },
   "outputs": [],
   "source": [
    "dftrain = df[:600].reset_index(drop=True)\n",
    "dfdev = df[600:660].reset_index(drop=True)\n",
    "dftest = df[660:].reset_index(drop=True)\n",
    "\n",
    "Path(f'{OUTPUT_DIR}/rewad_model_robust_test').mkdir(parents=True, exist_ok=True)\n",
    "\n",
    "dftrain.to_csv(f'{OUTPUT_DIR}/rewad_model_robust_test/sciBert_shuffled_train.csv')\n",
    "dfdev.to_csv(f'{OUTPUT_DIR}/rewad_model_robust_test/sciBert_shuffled_dev.csv')\n",
    "dftest.to_csv(f'{OUTPUT_DIR}/rewad_model_robust_test/sciBert_shuffled_test.csv')"
   ]
  },
  {
   "cell_type": "markdown",
   "metadata": {
    "id": "0yaWZXWlmPGR"
   },
   "source": [
    "### Training Dataset"
   ]
  },
  {
   "cell_type": "code",
   "execution_count": null,
   "metadata": {
    "id": "vcYIe-vumPGR"
   },
   "outputs": [],
   "source": [
    "train_set = Excerpt_Dataset(data=dftrain, maxlen=p['max_len'], tokenizer=tokenizer)\n",
    "dev_set = Excerpt_Dataset(data=dfdev, maxlen=p['max_len'], tokenizer=tokenizer)\n",
    "test_set = Excerpt_Dataset(data=dftest, maxlen=p['max_len'], tokenizer=tokenizer)"
   ]
  },
  {
   "cell_type": "markdown",
   "metadata": {
    "id": "NOtz2glYmPGS"
   },
   "source": [
    "### Data Loaders"
   ]
  },
  {
   "cell_type": "code",
   "execution_count": null,
   "metadata": {
    "id": "_vc0JO3nmPGS"
   },
   "outputs": [],
   "source": [
    "train_loader = DataLoader(dataset=train_set, batch_size=p['batch_size'], num_workers=p['num_threads'], shuffle=True)\n",
    "val_loader = DataLoader(dataset=dev_set, batch_size=p['batch_size'], num_workers=p['num_threads'], shuffle=True)\n",
    "test_loader = DataLoader(dataset=test_set, batch_size=p['batch_size'], num_workers=p['num_threads'], shuffle=True)"
   ]
  },
  {
   "cell_type": "code",
   "execution_count": null,
   "metadata": {
    "colab": {
     "base_uri": "https://localhost:8080/",
     "height": 37
    },
    "id": "tU5XZ7b6mPGS",
    "outputId": "3315464c-ef2a-4302-e02c-3bf12d0c2ee5"
   },
   "outputs": [],
   "source": [
    "# Do Train (do not use this for training of reward model, reward model trained using ray tune)\n",
    "\n",
    "\"\"\"if p['do_train']:\n",
    "  train(model=model,\n",
    "    criterion=criterion,\n",
    "    optimizer=optimizer,\n",
    "    train_loader=train_loader,\n",
    "    val_loader=dev_loader,\n",
    "    epochs = p['epochs'],\n",
    "    device = device\n",
    "  )\"\"\"\n"
   ]
  },
  {
   "cell_type": "markdown",
   "metadata": {
    "id": "pStenLje04xc"
   },
   "source": [
    "### Raytune"
   ]
  },
  {
   "cell_type": "code",
   "execution_count": null,
   "metadata": {
    "id": "caIOG0Ms03cn"
   },
   "outputs": [],
   "source": [
    "# here the global variables are used cause I am lazy...\n",
    "\n",
    "def tune_reward_model(config, data = None):\n",
    "\n",
    "    # get captured datasets\n",
    "    train_dataset = data[0]\n",
    "    test_dataset = data[1]\n",
    "    val_dataset = data[2]\n",
    "\n",
    "    def create_model():\n",
    "      # Configuration loaded from AutoConfig \n",
    "      aconfig = AutoConfig.from_pretrained(config['model_name'])\n",
    "      # Tokenizer loaded from AutoTokenizer\n",
    "      tokenizer = AutoTokenizer.from_pretrained(config['model_name'])\n",
    "      # Create device\n",
    "      device = torch.device(\"cuda:0\" if torch.cuda.is_available() else \"cpu\")\n",
    "      # Creating the model from the desired transformer model\n",
    "      model = BertRegresser.from_pretrained(config['model_name'], config=aconfig)\n",
    "      model = model.to(device)\n",
    "      return model\n",
    "\n",
    "    model = create_model()\n",
    "    criterion = nn.MSELoss()\n",
    "    optimizer = optim.Adam(params=model.parameters(), lr=p['lr'])\n",
    "\n",
    "    for i in range(10):\n",
    "        print(f\"before train, run {i}\")\n",
    "        train(model, criterion, optimizer, train_dataset, val_dataset, config[\"epochs\"], device)\n",
    "        print(f\"before evaluate, run {i}\")\n",
    "        acc = evaluate(model, test_dataset)\n",
    "\n",
    "        # Send the current training result back to Tune\n",
    "        tune.report(mean_accuracy=acc)\n",
    "\n",
    "        Path(f'{OUTPUT_DIR}/reward_model_tuned').mkdir(parents=True, exist_ok=True)\n",
    "\n",
    "        if i % 5 == 0:\n",
    "            # This saves the model to the trial directory\n",
    "            torch.save(model.state_dict(), f\"{OUTPUT_DIR}/reward_model_tuned/model.pth\")"
   ]
  },
  {
   "cell_type": "code",
   "execution_count": null,
   "metadata": {
    "colab": {
     "base_uri": "https://localhost:8080/",
     "height": 1000
    },
    "id": "fCknytlo1U5g",
    "outputId": "dab56c52-fd52-4f4a-f0a1-2186feef6586"
   },
   "outputs": [],
   "source": [
    "analysis = tune.run(tune.with_parameters(tune_reward_model, data=[train_loader, test_loader, val_loader]), verbose=3, config=p)"
   ]
  },
  {
   "cell_type": "code",
   "execution_count": null,
   "metadata": {
    "id": "yT6K2hDY1Yah"
   },
   "outputs": [],
   "source": [
    "dfs = analysis.trial_dataframes\n",
    "[d.mean_accuracy.plot() for d in dfs.values()]"
   ]
  },
  {
   "cell_type": "markdown",
   "metadata": {
    "id": "j95my1f6mPGT"
   },
   "source": [
    "### Load best read model"
   ]
  },
  {
   "cell_type": "code",
   "execution_count": null,
   "metadata": {
    "id": "4X96_C20mPGT"
   },
   "outputs": [],
   "source": [
    "model_state, optimizer_state = torch.load(os.path.join('D:\\\\Thesis\\\\Models\\\\reward model', \"checkpoint\"))\n",
    "model.load_state_dict(model_state)"
   ]
  },
  {
   "cell_type": "markdown",
   "metadata": {
    "id": "CHTUqBoimPGT"
   },
   "source": [
    "### Title prediction function"
   ]
  },
  {
   "cell_type": "code",
   "execution_count": null,
   "metadata": {
    "id": "KWeY4QXUmPGT"
   },
   "outputs": [],
   "source": [
    "def predict(model, dataloader, device):\n",
    "    predicted_label = []\n",
    "    actual_label = []\n",
    "    with torch.no_grad():\n",
    "        for input_ids, attention_mask, target in (dataloader):\n",
    "            \n",
    "            input_ids, attention_mask, target = input_ids.to(device), attention_mask.to(device), target.to(device)\n",
    "            output = model(input_ids, attention_mask)\n",
    "                        \n",
    "            predicted_label += output\n",
    "            actual_label += target\n",
    "            \n",
    "    return predicted_label, actual_label"
   ]
  },
  {
   "cell_type": "markdown",
   "metadata": {
    "id": "bo8jpx3CmPGU"
   },
   "source": [
    "\n",
    "## Display Correlation"
   ]
  },
  {
   "cell_type": "code",
   "execution_count": null,
   "metadata": {
    "id": "jl7N_LLimPGU"
   },
   "outputs": [],
   "source": [
    "output,GS_label = predict(model, train_loader, device)\n",
    "cpu_output = np.array([x.cpu().data.numpy() for x in output]).squeeze()\n",
    "cpu_target = np.array([x.cpu().data.numpy() for x in GS_label]).squeeze()\n",
    "stats.spearmanr(cpu_output, cpu_target)[0]"
   ]
  },
  {
   "cell_type": "code",
   "execution_count": null,
   "metadata": {
    "id": "m6o82DNKmPGU"
   },
   "outputs": [],
   "source": [
    "dev_output,dev_GS_label = predict(model, dev_loader, device)\n",
    "cpu_dev_output = np.array([x.cpu().data.numpy() for x in dev_output]).squeeze()\n",
    "cpu_dev_target = np.array([x.cpu().data.numpy() for x in dev_GS_label]).squeeze()\n",
    "stats.spearmanr(cpu_dev_output, cpu_dev_target)[0]"
   ]
  },
  {
   "cell_type": "code",
   "execution_count": null,
   "metadata": {
    "id": "VMqvfN1xmPGU"
   },
   "outputs": [],
   "source": [
    "test_output,test_GS_label = predict(model, test_loader, device)\n",
    "cpu_test_output = np.array([x.cpu().data.numpy() for x in test_output]).squeeze()\n",
    "cpu_test_target = np.array([x.cpu().data.numpy() for x in test_GS_label]).squeeze()\n",
    "stats.spearmanr(cpu_test_output, cpu_test_target)[0]"
   ]
  },
  {
   "cell_type": "code",
   "execution_count": null,
   "metadata": {
    "id": "I8ziuIc4mPGV"
   },
   "outputs": [],
   "source": [
    "dev_output,dev_GS_label = predict(model, dev_loader, device)\n",
    "cpu_dev_output = np.array([x.cpu().data.numpy() for x in dev_output]).squeeze()\n",
    "cpu_dev_target = np.array([x.cpu().data.numpy() for x in dev_GS_label]).squeeze()\n",
    "stats.spearmanr(cpu_dev_output, cpu_dev_target)[0]"
   ]
  },
  {
   "cell_type": "code",
   "execution_count": null,
   "metadata": {
    "id": "zMMV4gvtmPGV"
   },
   "outputs": [],
   "source": [
    "test_output,test_GS_label = predict(model, test_loader, device)\n",
    "cpu_test_output = np.array([x.cpu().data.numpy() for x in test_output]).squeeze()\n",
    "cpu_test_target = np.array([x.cpu().data.numpy() for x in test_GS_label]).squeeze()\n",
    "stats.spearmanr(cpu_test_output, cpu_test_target)[0]"
   ]
  }
 ],
 "metadata": {
  "colab": {
   "name": "reward_model.ipynb",
   "provenance": []
  },
  "kernelspec": {
   "display_name": "Python 3.10.3 64-bit ('3.10.3')",
   "language": "python",
   "name": "python3"
  },
  "language_info": {
   "codemirror_mode": {
    "name": "ipython",
    "version": 3
   },
   "file_extension": ".py",
   "mimetype": "text/x-python",
   "name": "python",
   "nbconvert_exporter": "python",
   "pygments_lexer": "ipython3",
   "version": "3.10.3"
  },
  "vscode": {
   "interpreter": {
    "hash": "426a8962a4e397ac98841b32bd3cc74bd467652b7acdfcb3db4c17a0c6c7a6b7"
   }
  }
 },
 "nbformat": 4,
 "nbformat_minor": 0
}
